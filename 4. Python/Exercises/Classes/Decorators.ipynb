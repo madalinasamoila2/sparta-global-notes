{
 "cells": [
  {
   "cell_type": "code",
   "execution_count": null,
   "metadata": {},
   "outputs": [],
   "source": [
    "# CLASS defines a collection of ATTRIBUTES(variables) and METHODS(functions) that the OBJECTS will have\n",
    "# CLASS defines ther STRUCTURE and behaviour those OBJECTS will have.\n",
    "\n",
    "# CLASS Dog\n",
    "# ATTRIBUTES: Name, Age, Bread\n",
    "# METHODS: Bark, Sit, Fetch\n",
    "\n",
    "# OBJECTS are instances of a class\n",
    "class Car:\n",
    "    def __init__(self, model, max_speed):   # __init__() METHOD - CONSTRUCTOR called automatically when a new OBJECT is created\n",
    "                                            # __init__() INITIALIASES the OBJECT's ATTRIBUTE\n",
    "        self.model = model                  # self.model(self-current instance of the class) initialises attribute 'model'\n",
    "        self.max_speed = max_speed          # initialises attribute 'max_speed'\n",
    "        self._current_speed = 0             # instance attribute to initialise car's current speed\n",
    "        # underscore means you cannot modify this directly, it's private\n",
    "\n",
    "# METHOD OF A CLASS - GETTER \n",
    "    def get_speed(self):               # GETTER returns current_speed\n",
    "        return self._current_speed          \n",
    "\n",
    "# METHOD to accelerate the car - SETTER\n",
    "    def accelerate(self, increase): \n",
    "        # Setter to increase speed #\n",
    "        new_speed = self._current_speed + increase \n",
    "        self._current_speed = min(new_speed, self.max_speed)\n",
    "        # return self._current_speed # don't need to return it because the SETTER already does that\n",
    "\n",
    "# METHOD to brake the car - SETTER\n",
    "    def brake(self, decrease):           \n",
    "        # Setter to decrease speed #\n",
    "        new_speed = self._current_speed - decrease \n",
    "        self._current_speed = max(new_speed, 0)\n",
    "        # return self._current_speed don't need to return it because the SETTER already does that"
   ]
  },
  {
   "cell_type": "markdown",
   "metadata": {},
   "source": [
    "### DECORATORS The @property decorator is used to create getter functions that allow attribute access using dot notation like a normal attribute.\n",
    "\n",
    "### STATIC METHODS - regular function inside a class, they don't have a cell, no CLASS METHOD separator\n",
    "\n",
    "### INSTANCE VARIABLES\n",
    "### CLASS VARIABLES - class data"
   ]
  }
 ],
 "metadata": {
  "language_info": {
   "name": "python"
  }
 },
 "nbformat": 4,
 "nbformat_minor": 2
}
