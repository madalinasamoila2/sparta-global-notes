{
 "cells": [
  {
   "cell_type": "markdown",
   "metadata": {},
   "source": [
    "# CLASS & OBJECTS PRACTICE"
   ]
  },
  {
   "cell_type": "markdown",
   "metadata": {},
   "source": [
    "#### Q1 Create a class called Dog. It should store the name and breed of the dog. Add a method called bark() that prints something like \"Woof! I am a Golden Retriever named Buddy.\""
   ]
  },
  {
   "cell_type": "code",
   "execution_count": 37,
   "metadata": {},
   "outputs": [
    {
     "name": "stdout",
     "output_type": "stream",
     "text": [
      "Woof! I am a Golden Retriever named Buddy\n",
      "Daisy sits down politely\n",
      "Buddy fetches the ball 1 time(s) from the swimming pool\n",
      "Buddy fetches the stick 2 time(s) from the swimming pool\n",
      "Buddy fetches the frisbee 3 time(s) from the swimming pool\n",
      "Buddy fetches the bar 4 time(s) from the swimming pool\n",
      "Buddy fetches the toy 5 time(s) from the swimming pool\n",
      "Buddy is too tired to fetch any more. Time for a rest!\n",
      "Warning! Buddy has reached its maximum number of fetches of 5 - time for a rest\n"
     ]
    }
   ],
   "source": [
    "# Define the CLASS\n",
    "class Dog:\n",
    "    def __init__(self, name, breed): # initialising the object's attributes\n",
    "        self.name = name\n",
    "        self.breed = breed\n",
    "        self.fetch_count = 0 \n",
    "\n",
    "    def bark(self):  # METHOD\n",
    "        return f\"Woof! I am a {self.breed} named {self.name}\"\n",
    "\n",
    "    def sit(self):   # METHOD\n",
    "        return f\"{self.name} sits down politely\"\n",
    "    \n",
    "    def fetch(self,item):   # METHOD\n",
    "        \" Setter to check how many times the dog fetches the item\"\n",
    "        if self.fetch_count >= 5:\n",
    "            return f\"{self.name} is too tired to fetch any more. Time for a rest!\"\n",
    "        \n",
    "        self.fetch_count += 1\n",
    "        return f\"{self.name} fetches the {item} {self.fetch_count} time(s) from the swimming pool\"\n",
    "\n",
    "    def get_fetch_count(self):\n",
    "        if self.fetch_count >= 5:\n",
    "            return f\"Warning! {self.name} has reached its maximum number of fetches of {self.fetch_count} - time for a rest\"\n",
    "        return f\"{self.name} has fetched the {self.fetch_count} time(s) in total\"\n",
    "\n",
    "# Create an OBJECT\n",
    "dog1 = Dog(\"Buddy\",\"Golden Retriever\")\n",
    "dog2 = Dog(\"Daisy\",\"Husky\")\n",
    "\n",
    "print(dog1.bark())\n",
    "print(dog2.sit())\n",
    "\n",
    "print(dog1.fetch(\"ball\"))\n",
    "print(dog1.fetch(\"stick\"))\n",
    "print(dog1.fetch(\"frisbee\"))\n",
    "print(dog1.fetch(\"bar\"))\n",
    "print(dog1.fetch(\"toy\"))\n",
    "print(dog1.fetch(\"butterly\"))\n",
    "\n",
    "print(dog1.get_fetch_count())\n"
   ]
  }
 ],
 "metadata": {
  "kernelspec": {
   "display_name": "Python 3",
   "language": "python",
   "name": "python3"
  },
  "language_info": {
   "codemirror_mode": {
    "name": "ipython",
    "version": 3
   },
   "file_extension": ".py",
   "mimetype": "text/x-python",
   "name": "python",
   "nbconvert_exporter": "python",
   "pygments_lexer": "ipython3",
   "version": "3.12.4"
  }
 },
 "nbformat": 4,
 "nbformat_minor": 2
}
