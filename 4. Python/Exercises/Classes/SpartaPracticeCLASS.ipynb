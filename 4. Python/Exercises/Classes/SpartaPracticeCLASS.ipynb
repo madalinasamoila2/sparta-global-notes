{
 "cells": [
  {
   "cell_type": "markdown",
   "metadata": {},
   "source": [
    "## CLASSES & OBJECTS\n"
   ]
  },
  {
   "cell_type": "code",
   "execution_count": 2,
   "metadata": {},
   "outputs": [
    {
     "name": "stdout",
     "output_type": "stream",
     "text": [
      "canine\n",
      "woof\n"
     ]
    }
   ],
   "source": [
    "# DEFINE A CLASS - the attributes an object will have ( this doesn't need to contain any data yet)\n",
    "class BigDog:\n",
    "    \n",
    "    animal_kind = \"canine\"\n",
    "    \n",
    "    def bark(self):\n",
    "        return \"woof\"\n",
    "    \n",
    "# OBJECTS\n",
    "dog1 = BigDog()\n",
    "print(dog1.animal_kind)\n",
    "print(dog1.bark())\n"
   ]
  },
  {
   "cell_type": "code",
   "execution_count": 38,
   "metadata": {},
   "outputs": [
    {
     "name": "stdout",
     "output_type": "stream",
     "text": [
      "canine\n",
      "woof\n",
      "Luna\n",
      "canine\n",
      "Daisy\n",
      "dolphin\n"
     ]
    },
    {
     "data": {
      "text/plain": [
       "<function print(*args, sep=' ', end='\\n', file=None, flush=False)>"
      ]
     },
     "execution_count": 38,
     "metadata": {},
     "output_type": "execute_result"
    }
   ],
   "source": [
    "# DEFINE A CLASS - the attributes an object will have ( this doesn't need to contain any data yet)\n",
    "class BigDog:\n",
    "\n",
    "    def __init__(self, name):  # class attributes, can only change object by object, anything inside here is initialised\n",
    "        self.name = name\n",
    "        self.__colour = \"brown\" # want the ability to change this later on\n",
    "\n",
    "    animal_kind = \"canine\" # CLASS ATTRIBUTES - affects CLASS OVERALL \n",
    "    \n",
    "    def bark(self): # method \n",
    "        return \"woof\"\n",
    "    \n",
    "    # setters and getters\n",
    "    def set_colour(self,new_colour): # different type of behaviour\n",
    "        colour_list = [\"brown\",\"grey\",\"black\"]\n",
    "        # if new colour is in_list:...\n",
    "        self.__colour = new_colour\n",
    "    \n",
    "    def get_colour(self):\n",
    "        return self.__colour\n",
    "\n",
    "    # additional attributes\n",
    "\n",
    "# OBJECTS - name is object specific\n",
    "dog1 = BigDog(\"Luna\")\n",
    "print(dog1.animal_kind)\n",
    "print(dog1.bark())\n",
    "print(dog1.name)\n",
    "\n",
    "dog2 = BigDog(\"Daisy\")\n",
    "print(dog2.animal_kind)\n",
    "print(dog2.name)\n",
    "\n",
    "BigDog.animal_kind = \"dolphin\"\n",
    "print(dog1.animal_kind)\n",
    "\n",
    "BigDog.name = \"something else\"\n",
    "print\n",
    "\n"
   ]
  },
  {
   "cell_type": "code",
   "execution_count": 62,
   "metadata": {},
   "outputs": [
    {
     "name": "stdout",
     "output_type": "stream",
     "text": [
      "kibble nom\n",
      "nom nom\n"
     ]
    }
   ],
   "source": [
    "# INHERITENCE\n",
    "# DEFINE A CLASS - the attributes an object will have ( this doesn't need to contain any data yet)\n",
    "class Animal():\n",
    "    # I want to make Big Dog initialise everything that Animal has\n",
    "    def __init__(self):\n",
    "        self.alive = True\n",
    "    \n",
    "    def eat(self):\n",
    "        return \"nom nom\"\n",
    "\n",
    "class BigDog(Animal):\n",
    "\n",
    "    def __init__(self, name):  # initialise objects with class attributes, can only change object by object, anything inside here is initialised\n",
    "        super().__init__()\n",
    "        self.name = name \n",
    "        self.__colour = \"brown\" # want the ability to change this later on\n",
    "\n",
    "    animal_kind = \"canine\" # class more general attributes\n",
    "    \n",
    "    def bark(self): # method \n",
    "        return \"woof\"\n",
    "    \n",
    "    # if you want big dog to eat in a different way\n",
    "    def eat(self):\n",
    "        return \"kibble nom\"\n",
    "    \n",
    "    # setters and getters\n",
    "    def set_colour(self,new_colour): # different type of behaviour\n",
    "        colour_list = [\"brown\",\"grey\",\"black\"]\n",
    "        # if new colour is in_list:...\n",
    "        self.__colour = new_colour\n",
    "    \n",
    "    def get_colour(self):\n",
    "        return self.__colour\n",
    "\n",
    "    # additional attributes\n",
    "\n",
    "# OBJECTS - name is object specific -instances of classes\n",
    "dog1 = BigDog(\"Luna\")\n",
    "animal = Animal()\n",
    "print(dog1.eat())\n",
    "print(animal.eat())\n",
    "\n"
   ]
  },
  {
   "cell_type": "code",
   "execution_count": 67,
   "metadata": {},
   "outputs": [],
   "source": [
    "# CLASS defines a collection of ATTRIBUTES(variables) and METHODS(functions) that the OBJECTS will have\n",
    "# CLASS defines ther STRUCTURE and behaviour those OBJECTS will have.\n",
    "\n",
    "# OBJECTS are instances of a class\n",
    "class Dog:\n",
    "    def __init__(self, name, age, breed):  # __init__() METHOD called automatically when a new OBJECT is created \n",
    "        self.name = name                   # __init__() INITIALIASES the OBJECT's ATTRIBUTE\n",
    "        self.age = age                     # initialises attribute 'age'\n",
    "        self.breed = breed                 # initialises attribute 'breed'\n",
    "\n",
    "# METHOD OF A CLASS \n",
    "    def bark(self):           \n",
    "        print(f\"{self.name} is barking!\")\n",
    "# METHOD OF A CLASS\n",
    "    def fetch(self):           \n",
    "        print(f\"{self.name} is fetching the ball!\")\n",
    "        \n",
    "# class Dog\n",
    "# ATTRIBUTES: Name, Age, Bread\n",
    "# METHODS: Bark, Sit, Fetch\n",
    "\n"
   ]
  },
  {
   "cell_type": "code",
   "execution_count": 74,
   "metadata": {},
   "outputs": [
    {
     "name": "stdout",
     "output_type": "stream",
     "text": [
      "Buddy\n",
      "Buddy is barking!\n",
      "Buddy is fetching the ball!\n"
     ]
    }
   ],
   "source": [
    "# Creating OBJECTS (instance) by accessing its attributes and calling its methods from CLASS Dog\n",
    "dog1 = Dog(\"Buddy\", 3, \"Golden Retriever\")\n",
    "print(dog1.name)  \n",
    "dog1.bark()\n",
    "dog1.fetch()\n"
   ]
  },
  {
   "cell_type": "markdown",
   "metadata": {},
   "source": [
    "## ENCAPSULATION hide how the class works put an underscore before the attribute name\n"
   ]
  },
  {
   "cell_type": "markdown",
   "metadata": {},
   "source": [
    "## LAB"
   ]
  },
  {
   "cell_type": "markdown",
   "metadata": {},
   "source": [
    "### Create a car class. Give the vehicle a maximum speed, and keep track of the current speed of the vehicle. It doesn't make sense for the speed to be adjusted directly, so put an underscore in front of it and implement a speed getter as well as accelerate and brake setter methods that change the speed in a logical way. Do your methods make sense? Does braking past 0 cause the speed to increase? Can you accelerate past the car's top speed?"
   ]
  },
  {
   "cell_type": "code",
   "execution_count": 123,
   "metadata": {},
   "outputs": [],
   "source": [
    "# CLASS defines a collection of ATTRIBUTES(variables) and METHODS(functions) that the OBJECTS will have\n",
    "# CLASS defines ther STRUCTURE and behaviour those OBJECTS will have.\n",
    "\n",
    "# OBJECTS are instances of a class\n",
    "class Car:\n",
    "    def __init__(self, model, max_speed):   # __init__() METHOD called automatically when a new OBJECT is created \n",
    "        self.model = model                  # __init__() INITIALIASES the OBJECT's ATTRIBUTE\n",
    "        self.max_speed = max_speed          # initialises attribute 'max_speed'\n",
    "        self._current_speed = 0\n",
    "\n",
    "# METHOD OF A CLASS \n",
    "    def _current_speed(self):           \n",
    "        return self._current_speed\n",
    "\n",
    "# METHOD to accelerate the car\n",
    "    def accelerate(self, increase): \n",
    "        # Setter to increase speed #\n",
    "        new_speed = self._current_speed + increase \n",
    "        self._current_speed = min(new_speed, self.max_speed)\n",
    "        return self._current_speed\n",
    "        \n",
    "\n",
    "# METHOD to brake the car\n",
    "    def brake(self, decrease):           \n",
    "        # Setter to decrease speed #\n",
    "        new_speed = self._current_speed - decrease \n",
    "        self._current_speed = max(new_speed, 0)\n",
    "        return self._current_speed"
   ]
  },
  {
   "cell_type": "code",
   "execution_count": 124,
   "metadata": {},
   "outputs": [
    {
     "name": "stdout",
     "output_type": "stream",
     "text": [
      "0\n",
      "50\n",
      "30\n"
     ]
    }
   ],
   "source": [
    "# Creating OBJECTS (instance) by accessing its attributes and calling its methods from CLASS Dog\n",
    "car1 = Car(\"Tesla Model S\",200)\n",
    "print(car1._current_speed)  \n",
    "car1.accelerate(50)\n",
    "print(car1._current_speed)\n",
    "car1.brake(20)\n",
    "print(car1._current_speed)\n"
   ]
  }
 ],
 "metadata": {
  "kernelspec": {
   "display_name": "Python 3",
   "language": "python",
   "name": "python3"
  },
  "language_info": {
   "codemirror_mode": {
    "name": "ipython",
    "version": 3
   },
   "file_extension": ".py",
   "mimetype": "text/x-python",
   "name": "python",
   "nbconvert_exporter": "python",
   "pygments_lexer": "ipython3",
   "version": "3.12.4"
  }
 },
 "nbformat": 4,
 "nbformat_minor": 2
}
