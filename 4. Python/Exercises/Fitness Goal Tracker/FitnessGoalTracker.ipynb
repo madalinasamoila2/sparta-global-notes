{
 "cells": [
  {
   "cell_type": "code",
   "execution_count": 16,
   "metadata": {},
   "outputs": [
    {
     "name": "stdout",
     "output_type": "stream",
     "text": [
      "What is your goal?\n",
      "Options: lose weight / maintain physique / gain muscle\n",
      "To maintain physique, we recommend consuming around 2500 calories per day.\n"
     ]
    }
   ],
   "source": [
    "# DEFINE THE CLASS\n",
    "class FitnessGoalTracker:\n",
    "    def __init__(self,goal,calories_per_day,exercise_hours_per_week):\n",
    "        self.goal = goal\n",
    "        self.calories_per_day = calories_per_day\n",
    "        self.exercise_hours_per_week = exercise_hours_per_week\n",
    "    \n",
    "    # METHODS\n",
    "    def recommend_calories(self):\n",
    "        # setter to check how many calories a user needs based on their goal #\n",
    "        base_calories = 2500    # average adult's daily intake\n",
    "\n",
    "        if self.goal == \"loose weight\":\n",
    "            recommended_calories = base_calories - 500\n",
    "            return f\"To lose weight, we recommend consuming around {recommended_calories} calories per day.\"\n",
    "        elif self.goal == \"maintain physique\":\n",
    "            recommended_calories = base_calories\n",
    "            return f\"To maintain physique, we recommend consuming around {recommended_calories} calories per day.\"\n",
    "        elif self.goal == \"gain muscle\":\n",
    "            recommended_calories = base_calories + 500\n",
    "            return f\"To gain weight, target around {recommended_calories} calories per day.\"\n",
    "        else:\n",
    "            return \"Invalid goal provided. Please choose: lose weight, maintain physique, or gain muscle.\"\n",
    "\n",
    "# Construct OBJECTS\n",
    "print(\"What is your goal?\")\n",
    "print(\"Options: lose weight / maintain physique / gain muscle\")\n",
    "goal = input(\"Enter your goal: \").strip().lower()\n",
    "\n",
    "calories = int(input(\"How many calories do you eat per day? \"))\n",
    "exercise_hours = int(input(\"How many hours do you exercise per week? \"))\n",
    "\n",
    "tracker = FitnessGoalTracker(goal, calories, exercise_hours)\n",
    "print(tracker.recommend_calories())\n"
   ]
  }
 ],
 "metadata": {
  "kernelspec": {
   "display_name": "Python 3",
   "language": "python",
   "name": "python3"
  },
  "language_info": {
   "codemirror_mode": {
    "name": "ipython",
    "version": 3
   },
   "file_extension": ".py",
   "mimetype": "text/x-python",
   "name": "python",
   "nbconvert_exporter": "python",
   "pygments_lexer": "ipython3",
   "version": "3.12.4"
  }
 },
 "nbformat": 4,
 "nbformat_minor": 2
}
