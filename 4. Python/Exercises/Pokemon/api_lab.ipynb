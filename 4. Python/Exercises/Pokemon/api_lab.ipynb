{
 "cells": [
  {
   "cell_type": "markdown",
   "metadata": {},
   "source": [
    "# Pokémons"
   ]
  },
  {
   "cell_type": "code",
   "execution_count": 2,
   "metadata": {},
   "outputs": [],
   "source": [
    "# Read data from an API, think about how you can restructure the data\n",
    "# 1. First put the in a dataframe, do some EDA\n",
    "# think about how you can split up the data to reduce redundancy, into multiple dataframes?\n",
    "\n",
    "# extension: load that data into SQL/\n",
    "# we want to take non relational data, performing data modelling"
   ]
  },
  {
   "cell_type": "markdown",
   "metadata": {},
   "source": [
    "# Read JSON file using JSON.LOAD()"
   ]
  },
  {
   "cell_type": "code",
   "execution_count": 3,
   "metadata": {},
   "outputs": [
    {
     "name": "stdout",
     "output_type": "stream",
     "text": [
      "pokemon info: {'base_happiness': 70, 'capture_rate': 45, 'color': {'name': 'white', 'url': 'https://pokeapi.co/api/v2/pokemon-color/9/'}, 'egg_groups': [{'name': 'fairy', 'url': 'https://pokeapi.co/api/v2/egg-group/6/'}], 'evolution_chain': {'url': 'https://pokeapi.co/api/v2/evolution-chain/344/'}, 'evolves_from_species': {'name': 'floette', 'url': 'https://pokeapi.co/api/v2/pokemon-species/670/'}, 'flavor_text_entries': [{'flavor_text': 'テリトリーは\\u3000みごとな\\u3000はなぞの。\\nくさばなが\\u3000はなつ\\u3000エネルギーを\\nあびて\\u3000じぶんの\\u3000パワーにするのだ。', 'language': {'name': 'ja-Hrkt', 'url': 'https://pokeapi.co/api/v2/language/1/'}, 'version': {'name': 'x', 'url': 'https://pokeapi.co/api/v2/version/23/'}}, {'flavor_text': '멋진 화원이 영역이다.\\n화초가 내보내는 에너지를\\n쬐어 자신의 파워로 삼는다.', 'language': {'name': 'ko', 'url': 'https://pokeapi.co/api/v2/language/3/'}, 'version': {'name': 'x', 'url': 'https://pokeapi.co/api/v2/version/23/'}}, {'flavor_text': 'Les jardins fleuris sont son territoire.\\nIl se baigne dans l’énergie dégagée par les plantes\\nen fleurs pour l’absorber.', 'language': {'name': 'fr', 'url': 'https://pokeapi.co/api/v2/language/5/'}, 'version': {'name': 'x', 'url': 'https://pokeapi.co/api/v2/version/23/'}}, {'flavor_text': 'Wunderschöne Blumengärten sind sein Revier.\\nEs badet in der von blühenden Blumen freigesetzten\\nEnergie und zieht daraus seine Kraft.', 'language': {'name': 'de', 'url': 'https://pokeapi.co/api/v2/language/6/'}, 'version': {'name': 'x', 'url': 'https://pokeapi.co/api/v2/version/23/'}}, {'flavor_text': 'Habita en preciosos jardines floridos. Absorbe la\\nenergía que emiten las plantas y la convierte en su\\nfuente de poder.', 'language': {'name': 'es', 'url': 'https://pokeapi.co/api/v2/language/7/'}, 'version': {'name': 'x', 'url': 'https://pokeapi.co/api/v2/version/23/'}}, {'flavor_text': 'Il suo habitat preferito sono i meravigliosi giardini\\nfioriti. Assorbe e utilizza l’energia di piante e fiori.', 'language': {'name': 'it', 'url': 'https://pokeapi.co/api/v2/language/8/'}, 'version': {'name': 'x', 'url': 'https://pokeapi.co/api/v2/version/23/'}}, {'flavor_text': 'It claims exquisite flower gardens as its territory,\\nand it obtains power from basking in the energy\\nemitted by flowering plants.', 'language': {'name': 'en', 'url': 'https://pokeapi.co/api/v2/language/9/'}, 'version': {'name': 'x', 'url': 'https://pokeapi.co/api/v2/version/23/'}}, {'flavor_text': 'テリトリーは\\u3000見事な\\u3000花園。\\n草花の\\u3000放つ\\u3000エネルギーを\\u3000浴びて\\n自分の\\u3000パワーにするのだ。', 'language': {'name': 'ja', 'url': 'https://pokeapi.co/api/v2/language/11/'}, 'version': {'name': 'x', 'url': 'https://pokeapi.co/api/v2/version/23/'}}, {'flavor_text': 'むかしの\\u3000しろの\\u3000あるじたちは\\nにわを\\u3000かざるため\\u3000フラージェスを\\nまねきいれ\\u3000はなぞのを\\u3000つくらせた。', 'language': {'name': 'ja-Hrkt', 'url': 'https://pokeapi.co/api/v2/language/1/'}, 'version': {'name': 'y', 'url': 'https://pokeapi.co/api/v2/version/24/'}}, {'flavor_text': '옛 성의 주인은\\n정원을 꾸미기 위해 플라제스를\\n불러들여 화원을 만들게 했다.', 'language': {'name': 'ko', 'url': 'https://pokeapi.co/api/v2/language/3/'}, 'version': {'name': 'y', 'url': 'https://pokeapi.co/api/v2/version/24/'}}, {'flavor_text': 'Les châtelains de jadis invitaient les Florges sur leurs\\nterres et leur confiaient la réalisation de leurs jardins.', 'language': {'name': 'fr', 'url': 'https://pokeapi.co/api/v2/language/5/'}, 'version': {'name': 'y', 'url': 'https://pokeapi.co/api/v2/version/24/'}}, {'flavor_text': 'Die Schlossherren vergangener Zeiten haben Florges\\neingeladen, damit diese Blumengärten für sie anlegen,\\num so ihre Anwesen zu verschönern.', 'language': {'name': 'de', 'url': 'https://pokeapi.co/api/v2/language/6/'}, 'version': {'name': 'y', 'url': 'https://pokeapi.co/api/v2/version/24/'}}, {'flavor_text': 'Los propietarios de los castillos de antaño solían\\ninvitar a Florges para que creasen jardines floridos,\\na fin de decorar sus terrenos.', 'language': {'name': 'es', 'url': 'https://pokeapi.co/api/v2/language/7/'}, 'version': {'name': 'y', 'url': 'https://pokeapi.co/api/v2/version/24/'}}, {'flavor_text': 'Anticamente, i padroni dei castelli ricorrevano al suo\\naiuto per abbellire i loro giardini con tanti fiori diversi.', 'language': {'name': 'it', 'url': 'https://pokeapi.co/api/v2/language/8/'}, 'version': {'name': 'y', 'url': 'https://pokeapi.co/api/v2/version/24/'}}, {'flavor_text': 'In times long past, governors of castles\\nwould invite Florges to create flower gardens\\nto embellish the castle domains.', 'language': {'name': 'en', 'url': 'https://pokeapi.co/api/v2/language/9/'}, 'version': {'name': 'y', 'url': 'https://pokeapi.co/api/v2/version/24/'}}, {'flavor_text': '昔の\\u3000城の\\u3000主たちは\\u3000庭を\\u3000飾るため\\nフラージェスを\\u3000招き入れ\\n花園を\\u3000作らせた。', 'language': {'name': 'ja', 'url': 'https://pokeapi.co/api/v2/language/11/'}, 'version': {'name': 'y', 'url': 'https://pokeapi.co/api/v2/version/24/'}}, {'flavor_text': 'テリトリーは\\u3000みごとな\\u3000はなぞの。\\nくさばなが\\u3000はなつ\\u3000エネルギーを\\nあびて\\u3000じぶんの\\u3000パワーにするのだ。', 'language': {'name': 'ja-Hrkt', 'url': 'https://pokeapi.co/api/v2/language/1/'}, 'version': {'name': 'omega-ruby', 'url': 'https://pokeapi.co/api/v2/version/25/'}}, {'flavor_text': '멋진 화원이 영역이다.\\n화초가 내보내는 에너지를\\n쬐어 자신의 파워로 삼는다.', 'language': {'name': 'ko', 'url': 'https://pokeapi.co/api/v2/language/3/'}, 'version': {'name': 'omega-ruby', 'url': 'https://pokeapi.co/api/v2/version/25/'}}, {'flavor_text': 'Les jardins fleuris sont son territoire. Il se baigne dans\\nl’énergie dégagée par les plantes en fleurs pour l’absorber.', 'language': {'name': 'fr', 'url': 'https://pokeapi.co/api/v2/language/5/'}, 'version': {'name': 'omega-ruby', 'url': 'https://pokeapi.co/api/v2/version/25/'}}, {'flavor_text': 'Wunderschöne Blumengärten sind sein Revier. Es badet in der\\nvon blühenden Blumen freigesetzten Energie und zieht daraus\\nseine Kraft.', 'language': {'name': 'de', 'url': 'https://pokeapi.co/api/v2/language/6/'}, 'version': {'name': 'omega-ruby', 'url': 'https://pokeapi.co/api/v2/version/25/'}}, {'flavor_text': 'Habita en preciosos jardines floridos. Absorbe la energía que\\nemiten las plantas y la convierte en su fuente de poder.', 'language': {'name': 'es', 'url': 'https://pokeapi.co/api/v2/language/7/'}, 'version': {'name': 'omega-ruby', 'url': 'https://pokeapi.co/api/v2/version/25/'}}, {'flavor_text': 'Il suo habitat preferito sono i meravigliosi giardini fioriti.\\nAssorbe e utilizza l’energia di piante e fiori.', 'language': {'name': 'it', 'url': 'https://pokeapi.co/api/v2/language/8/'}, 'version': {'name': 'omega-ruby', 'url': 'https://pokeapi.co/api/v2/version/25/'}}, {'flavor_text': 'It claims exquisite flower gardens as its territory,\\nand it obtains power from basking in the energy\\nemitted by flowering plants.', 'language': {'name': 'en', 'url': 'https://pokeapi.co/api/v2/language/9/'}, 'version': {'name': 'omega-ruby', 'url': 'https://pokeapi.co/api/v2/version/25/'}}, {'flavor_text': 'テリトリーは\\u3000見事な\\u3000花園。\\n草花の\\u3000放つ\\u3000エネルギーを\\u3000浴びて\\n自分の\\u3000パワーにするのだ。', 'language': {'name': 'ja', 'url': 'https://pokeapi.co/api/v2/language/11/'}, 'version': {'name': 'omega-ruby', 'url': 'https://pokeapi.co/api/v2/version/25/'}}, {'flavor_text': 'むかしの\\u3000しろの\\u3000あるじたちは\\nにわを\\u3000かざるため\\u3000フラージェスを\\nまねきいれ\\u3000はなぞのを\\u3000つくらせた。', 'language': {'name': 'ja-Hrkt', 'url': 'https://pokeapi.co/api/v2/language/1/'}, 'version': {'name': 'alpha-sapphire', 'url': 'https://pokeapi.co/api/v2/version/26/'}}, {'flavor_text': '옛 성의 주인은\\n정원을 꾸미기 위해 플라제스를\\n불러들여 화원을 만들게 했다.', 'language': {'name': 'ko', 'url': 'https://pokeapi.co/api/v2/language/3/'}, 'version': {'name': 'alpha-sapphire', 'url': 'https://pokeapi.co/api/v2/version/26/'}}, {'flavor_text': 'Les châtelains de jadis invitaient les Florges sur leurs terres\\net leur confiaient la réalisation de leurs jardins.', 'language': {'name': 'fr', 'url': 'https://pokeapi.co/api/v2/language/5/'}, 'version': {'name': 'alpha-sapphire', 'url': 'https://pokeapi.co/api/v2/version/26/'}}, {'flavor_text': 'Die Schlossherren vergangener Zeiten haben Florges\\neingeladen, damit diese Blumengärten für sie anlegen,\\num so ihre Anwesen zu verschönern.', 'language': {'name': 'de', 'url': 'https://pokeapi.co/api/v2/language/6/'}, 'version': {'name': 'alpha-sapphire', 'url': 'https://pokeapi.co/api/v2/version/26/'}}, {'flavor_text': 'Los propietarios de los castillos de antaño solían invitar a\\nFlorges para que creasen jardines floridos, a fin de decorar\\nsus terrenos.', 'language': {'name': 'es', 'url': 'https://pokeapi.co/api/v2/language/7/'}, 'version': {'name': 'alpha-sapphire', 'url': 'https://pokeapi.co/api/v2/version/26/'}}, {'flavor_text': 'Anticamente, i padroni dei castelli ricorrevano al suo aiuto per\\nabbellire i loro giardini con tanti fiori diversi.', 'language': {'name': 'it', 'url': 'https://pokeapi.co/api/v2/language/8/'}, 'version': {'name': 'alpha-sapphire', 'url': 'https://pokeapi.co/api/v2/version/26/'}}, {'flavor_text': 'In times long past, governors of castles\\nwould invite Florges to create flower gardens\\nto embellish the castle domains.', 'language': {'name': 'en', 'url': 'https://pokeapi.co/api/v2/language/9/'}, 'version': {'name': 'alpha-sapphire', 'url': 'https://pokeapi.co/api/v2/version/26/'}}, {'flavor_text': '昔の\\u3000城の\\u3000主たちは\\u3000庭を\\u3000飾るため\\nフラージェスを\\u3000招き入れ\\n花園を\\u3000作らせた。', 'language': {'name': 'ja', 'url': 'https://pokeapi.co/api/v2/language/11/'}, 'version': {'name': 'alpha-sapphire', 'url': 'https://pokeapi.co/api/v2/version/26/'}}, {'flavor_text': 'そだてた\\u3000はなばなを\\u3000あやつる。\\nフラージェスの\\u3000はなつ\\u3000はなふぶきは\\nうつくしさも\\u3000パワーも\\u3000あっとうてき。', 'language': {'name': 'ja-Hrkt', 'url': 'https://pokeapi.co/api/v2/language/1/'}, 'version': {'name': 'ultra-sun', 'url': 'https://pokeapi.co/api/v2/version/29/'}}, {'flavor_text': '기른 꽃들을 조종한다.\\n플라제스가 발산하는 꽃보라는\\n아름다움도 파워도 압도적이다.', 'language': {'name': 'ko', 'url': 'https://pokeapi.co/api/v2/language/3/'}, 'version': {'name': 'ultra-sun', 'url': 'https://pokeapi.co/api/v2/version/29/'}}, {'flavor_text': '會操縱自己培育的花朵。\\n花潔夫人使出的落英繽紛\\n有著壓倒性的力與美。', 'language': {'name': 'zh-Hant', 'url': 'https://pokeapi.co/api/v2/language/4/'}, 'version': {'name': 'ultra-sun', 'url': 'https://pokeapi.co/api/v2/version/29/'}}, {'flavor_text': 'Il contrôle les fleurs qu’il cultive. Les tempêtes\\nde pétales qu’il déchaîne sont aussi belles que\\nredoutables.', 'language': {'name': 'fr', 'url': 'https://pokeapi.co/api/v2/language/5/'}, 'version': {'name': 'ultra-sun', 'url': 'https://pokeapi.co/api/v2/version/29/'}}, {'flavor_text': 'Es kontrolliert selbst gezüchtete Blumen. Die\\nBlütenwirbel, die es erzeugt, sind überwältigend\\nschön und stark.', 'language': {'name': 'de', 'url': 'https://pokeapi.co/api/v2/language/6/'}, 'version': {'name': 'ultra-sun', 'url': 'https://pokeapi.co/api/v2/version/29/'}}, {'flavor_text': 'Es capaz de controlar las flores que cultiva. La\\nráfaga de pétalos que emplea es hermosa a la\\nvez que devastadora.', 'language': {'name': 'es', 'url': 'https://pokeapi.co/api/v2/language/7/'}, 'version': {'name': 'ultra-sun', 'url': 'https://pokeapi.co/api/v2/version/29/'}}, {'flavor_text': 'Ha il potere di controllare i fiori che coltiva.\\nÈ in grado di creare tempeste di fiori tanto\\nmeravigliose quanto devastanti.', 'language': {'name': 'it', 'url': 'https://pokeapi.co/api/v2/language/8/'}, 'version': {'name': 'ultra-sun', 'url': 'https://pokeapi.co/api/v2/version/29/'}}, {'flavor_text': 'It controls the flowers it grows. The petal\\nblizzards that Florges triggers are overwhelming\\nin their beauty and power.', 'language': {'name': 'en', 'url': 'https://pokeapi.co/api/v2/language/9/'}, 'version': {'name': 'ultra-sun', 'url': 'https://pokeapi.co/api/v2/version/29/'}}, {'flavor_text': '育てた\\u3000花々を\\u3000操る。\\nフラージェスの\\u3000放つ\\u3000花吹雪は\\n美しさも\\u3000パワーも\\u3000圧倒的。', 'language': {'name': 'ja', 'url': 'https://pokeapi.co/api/v2/language/11/'}, 'version': {'name': 'ultra-sun', 'url': 'https://pokeapi.co/api/v2/version/29/'}}, {'flavor_text': '会操纵自己培育的花。\\n花洁夫人释放的落英缤纷，\\n其美貌和力量都是压倒性的。', 'language': {'name': 'zh-Hans', 'url': 'https://pokeapi.co/api/v2/language/12/'}, 'version': {'name': 'ultra-sun', 'url': 'https://pokeapi.co/api/v2/version/29/'}}, {'flavor_text': 'すうひゃくねんの\\u3000じゅみょうをもつ。\\nていえんを\\u3000まもりつづけることに\\nその\\u3000いっしょうを\\u3000ささげるという。', 'language': {'name': 'ja-Hrkt', 'url': 'https://pokeapi.co/api/v2/language/1/'}, 'version': {'name': 'ultra-moon', 'url': 'https://pokeapi.co/api/v2/version/30/'}}, {'flavor_text': '수백 년의 수명을 가졌다.\\n정원을 지키는 일에\\n일생을 바친다고 한다.', 'language': {'name': 'ko', 'url': 'https://pokeapi.co/api/v2/language/3/'}, 'version': {'name': 'ultra-moon', 'url': 'https://pokeapi.co/api/v2/version/30/'}}, {'flavor_text': '擁有數百年的壽命。\\n據說牠終其一生都會\\n不斷守護著庭園。', 'language': {'name': 'zh-Hant', 'url': 'https://pokeapi.co/api/v2/language/4/'}, 'version': {'name': 'ultra-moon', 'url': 'https://pokeapi.co/api/v2/version/30/'}}, {'flavor_text': 'Il peut vivre des centaines d’années, et\\nconsacre sa longue existence à l’entretien\\ndes jardins.', 'language': {'name': 'fr', 'url': 'https://pokeapi.co/api/v2/language/5/'}, 'version': {'name': 'ultra-moon', 'url': 'https://pokeapi.co/api/v2/version/30/'}}, {'flavor_text': 'Es hat eine Lebenserwartung von mehreren\\nHundert Jahren. Man sagt, es widme sein ganzes\\nDasein beharrlich der Pflege von Blumengärten.', 'language': {'name': 'de', 'url': 'https://pokeapi.co/api/v2/language/6/'}, 'version': {'name': 'ultra-moon', 'url': 'https://pokeapi.co/api/v2/version/30/'}}, {'flavor_text': 'Su esperanza de vida asciende a varios siglos y\\ndedica toda su dilatada existencia al cuidado\\nde los jardines.', 'language': {'name': 'es', 'url': 'https://pokeapi.co/api/v2/language/7/'}, 'version': {'name': 'ultra-moon', 'url': 'https://pokeapi.co/api/v2/version/30/'}}, {'flavor_text': 'Può vivere per centinaia di anni e dedica la sua\\nintera esistenza alla cura dei giardini fioriti.', 'language': {'name': 'it', 'url': 'https://pokeapi.co/api/v2/language/8/'}, 'version': {'name': 'ultra-moon', 'url': 'https://pokeapi.co/api/v2/version/30/'}}, {'flavor_text': 'Its life can span several hundred years. It’s said\\nto devote its entire life to protecting gardens.', 'language': {'name': 'en', 'url': 'https://pokeapi.co/api/v2/language/9/'}, 'version': {'name': 'ultra-moon', 'url': 'https://pokeapi.co/api/v2/version/30/'}}, {'flavor_text': '数百年の\\u3000寿命を持つ。\\n庭園を\\u3000守り続けることに\\nその\\u3000一生を\\u3000ささげるという。', 'language': {'name': 'ja', 'url': 'https://pokeapi.co/api/v2/language/11/'}, 'version': {'name': 'ultra-moon', 'url': 'https://pokeapi.co/api/v2/version/30/'}}, {'flavor_text': '拥有几百年的寿命。\\n据说会终其一生不断地守护着庭园。', 'language': {'name': 'zh-Hans', 'url': 'https://pokeapi.co/api/v2/language/12/'}, 'version': {'name': 'ultra-moon', 'url': 'https://pokeapi.co/api/v2/version/30/'}}], 'form_descriptions': [{'description': \"Forms only differ in appearance.  Florges's flower is set as a Flabébé or Floette, and cannot be changed.\", 'language': {'name': 'en', 'url': 'https://pokeapi.co/api/v2/language/9/'}}], 'forms_switchable': False, 'gender_rate': 8, 'genera': [{'genus': 'ガーデンポケモン', 'language': {'name': 'ja-Hrkt', 'url': 'https://pokeapi.co/api/v2/language/1/'}}, {'genus': '가든포켓몬', 'language': {'name': 'ko', 'url': 'https://pokeapi.co/api/v2/language/3/'}}, {'genus': '花園寶可夢', 'language': {'name': 'zh-Hant', 'url': 'https://pokeapi.co/api/v2/language/4/'}}, {'genus': 'Pokémon Jardin', 'language': {'name': 'fr', 'url': 'https://pokeapi.co/api/v2/language/5/'}}, {'genus': 'Garten', 'language': {'name': 'de', 'url': 'https://pokeapi.co/api/v2/language/6/'}}, {'genus': 'Pokémon Jardín', 'language': {'name': 'es', 'url': 'https://pokeapi.co/api/v2/language/7/'}}, {'genus': 'Pokémon Giardino', 'language': {'name': 'it', 'url': 'https://pokeapi.co/api/v2/language/8/'}}, {'genus': 'Garden Pokémon', 'language': {'name': 'en', 'url': 'https://pokeapi.co/api/v2/language/9/'}}, {'genus': 'ガーデンポケモン', 'language': {'name': 'ja', 'url': 'https://pokeapi.co/api/v2/language/11/'}}, {'genus': '花园宝可梦', 'language': {'name': 'zh-Hans', 'url': 'https://pokeapi.co/api/v2/language/12/'}}], 'generation': {'name': 'generation-vi', 'url': 'https://pokeapi.co/api/v2/generation/6/'}, 'growth_rate': {'name': 'medium', 'url': 'https://pokeapi.co/api/v2/growth-rate/2/'}, 'habitat': None, 'has_gender_differences': False, 'hatch_counter': 20, 'id': 671, 'is_baby': False, 'is_legendary': False, 'is_mythical': False, 'name': 'florges', 'names': [{'language': {'name': 'ja-Hrkt', 'url': 'https://pokeapi.co/api/v2/language/1/'}, 'name': 'フラージェス'}, {'language': {'name': 'roomaji', 'url': 'https://pokeapi.co/api/v2/language/2/'}, 'name': 'Florges'}, {'language': {'name': 'ko', 'url': 'https://pokeapi.co/api/v2/language/3/'}, 'name': '플라제스'}, {'language': {'name': 'zh-Hant', 'url': 'https://pokeapi.co/api/v2/language/4/'}, 'name': '花潔夫人'}, {'language': {'name': 'fr', 'url': 'https://pokeapi.co/api/v2/language/5/'}, 'name': 'Florges'}, {'language': {'name': 'de', 'url': 'https://pokeapi.co/api/v2/language/6/'}, 'name': 'Florges'}, {'language': {'name': 'es', 'url': 'https://pokeapi.co/api/v2/language/7/'}, 'name': 'Florges'}, {'language': {'name': 'it', 'url': 'https://pokeapi.co/api/v2/language/8/'}, 'name': 'Florges'}, {'language': {'name': 'en', 'url': 'https://pokeapi.co/api/v2/language/9/'}, 'name': 'Florges'}, {'language': {'name': 'ja', 'url': 'https://pokeapi.co/api/v2/language/11/'}, 'name': 'フラージェス'}, {'language': {'name': 'zh-Hans', 'url': 'https://pokeapi.co/api/v2/language/12/'}, 'name': '花洁夫人'}], 'order': 672, 'pal_park_encounters': [], 'pokedex_numbers': [{'entry_number': 671, 'pokedex': {'name': 'national', 'url': 'https://pokeapi.co/api/v2/pokedex/1/'}}, {'entry_number': 70, 'pokedex': {'name': 'kalos-central', 'url': 'https://pokeapi.co/api/v2/pokedex/12/'}}, {'entry_number': 102, 'pokedex': {'name': 'updated-alola', 'url': 'https://pokeapi.co/api/v2/pokedex/21/'}}, {'entry_number': 102, 'pokedex': {'name': 'updated-melemele', 'url': 'https://pokeapi.co/api/v2/pokedex/22/'}}, {'entry_number': 47, 'pokedex': {'name': 'updated-ulaula', 'url': 'https://pokeapi.co/api/v2/pokedex/24/'}}, {'entry_number': 46, 'pokedex': {'name': 'updated-poni', 'url': 'https://pokeapi.co/api/v2/pokedex/25/'}}, {'entry_number': 147, 'pokedex': {'name': 'paldea', 'url': 'https://pokeapi.co/api/v2/pokedex/31/'}}], 'shape': {'name': 'arms', 'url': 'https://pokeapi.co/api/v2/pokemon-shape/4/'}, 'varieties': [{'is_default': True, 'pokemon': {'name': 'florges', 'url': 'https://pokeapi.co/api/v2/pokemon/671/'}}]}\n"
     ]
    }
   ],
   "source": [
    "# JSON.LOAD() read json file - if you've already downloaded data\n",
    "\n",
    "import json\n",
    "\n",
    "with open(\"florges.json\",\"r\") as pokemon_json:\n",
    "    pokemon_info = json.load(pokemon_json)\n",
    "\n",
    "print(f\"pokemon info: {pokemon_info}\")\n"
   ]
  },
  {
   "cell_type": "markdown",
   "metadata": {},
   "source": [
    "# OR"
   ]
  },
  {
   "cell_type": "markdown",
   "metadata": {},
   "source": [
    "# Read JSON file via API"
   ]
  },
  {
   "cell_type": "code",
   "execution_count": 4,
   "metadata": {},
   "outputs": [
    {
     "name": "stdout",
     "output_type": "stream",
     "text": [
      "[{'id': 671, 'name': 'florges', 'base_happiness': 70, 'capture_rate': 45, 'color': 'white', 'egg_group': ['fairy'], 'evolves_from': 'floette'}]\n",
      "    id     name  base_happiness  capture_rate  color egg_group evolves_from\n",
      "0  671  florges              70            45  white   [fairy]      floette\n"
     ]
    }
   ],
   "source": [
    "# Fetching via API - easier for multiple fetches\n",
    "\n",
    "import requests\n",
    "import pandas as pd\n",
    "\n",
    "# Step 1: Make a GET request to the API by specifying API Endpoint\n",
    "url = 'https://pokeapi.co/api/v2/pokemon-species/florges'\n",
    "response = requests.get(url) \n",
    "\n",
    "pokemon_dict_list = []\n",
    "\n",
    "# Step 2: Convert JSON to a dictionary and then dataframe\n",
    "if response.status_code == 200:\n",
    "    florges_data = response.json()\n",
    "\n",
    "    # JSON shows nested structure for the data, so we can extract variables we want\n",
    "    florges_info = {\n",
    "        'id': florges_data['id'],\n",
    "        'name': florges_data['name'],\n",
    "        'base_happiness': florges_data['base_happiness'],\n",
    "        'capture_rate': florges_data['capture_rate'],\n",
    "        'color': florges_data['color']['name'],\n",
    "        'egg_group': [egg['name'] for egg in florges_data['egg_groups']],\n",
    "        'evolves_from': florges_data['evolves_from_species']['name'] if florges_data['evolves_from_species'] else None\n",
    "    }\n",
    "\n",
    "\n",
    "    # add to list of pokemon data\n",
    "    pokemon_dict_list.append(florges_info)\n",
    "    print(pokemon_dict_list)\n",
    "\n",
    "    # Convert the dictionary into a pd.DataFrame\n",
    "    df = pd.DataFrame(pokemon_dict_list)\n",
    "    print(df)\n",
    "    "
   ]
  },
  {
   "cell_type": "code",
   "execution_count": 5,
   "metadata": {},
   "outputs": [
    {
     "name": "stdout",
     "output_type": "stream",
     "text": [
      "['no-eggs']\n"
     ]
    }
   ],
   "source": [
    "# Step 3: Add more Pokemons to the dataframe \n",
    "\n",
    "pokemon_names = [\n",
    "    'chespin', 'quilladin', \n",
    "    'fennekin', 'braixen', 'delphox',\n",
    "    'froakie', 'frogadier', 'greninja',\n",
    "    'bunnelby', 'diggersby',\n",
    "    'fletchinder', 'talonflame',\n",
    "    'scatterbug', 'spewpa', 'vivillon',\n",
    "    'litleo', 'pyroar',\n",
    "    'floette', 'florges',\n",
    "    'skiddo', 'gogoat',\n",
    "    'pancham', 'pangoro',\n",
    "    'furfrou',\n",
    "    'espurr', 'meowstic',\n",
    "    'honedge', 'doublade', 'aegislash',\n",
    "    'spritzee', 'aromatisse',\n",
    "    'swirlix', 'slurpuff',\n",
    "    'inkay', 'malamar',\n",
    "    'barboach', 'whiscash',\n",
    "    'corphish', 'crawdaunt',\n",
    "    'skrelp', 'dragalge',\n",
    "    'clauncher', 'clawitzer',\n",
    "    'helioptile', 'heliolisk',\n",
    "    'goomy', 'sliggoo', 'goodra',\n",
    "    'noibat', 'noivern',\n",
    "    'xerneas', 'yveltal', \n",
    "    'diancie', 'hoopa', 'volcanion'\n",
    "]\n",
    "\n",
    "for name in pokemon_names:\n",
    "    url = f'https://pokeapi.co/api/v2/pokemon-species/{name.lower()}/'\n",
    "    response = requests.get(url)\n",
    "\n",
    "    if response.status_code == 200:\n",
    "        pokemon_data = response.json()\n",
    "\n",
    "        # JSON shows nested structure for the data, so we can extract variables we want\n",
    "        pokemon_info = {\n",
    "            'id': pokemon_data['id'],\n",
    "            'name': pokemon_data['name'],\n",
    "            'base_happiness': pokemon_data['base_happiness'],\n",
    "            'capture_rate': pokemon_data['capture_rate'],\n",
    "            'color': pokemon_data['color']['name'],\n",
    "            'egg_group': [egg['name'] for egg in pokemon_data['egg_groups']],\n",
    "            'evolves_from': pokemon_data['evolves_from_species']['name'] if pokemon_data['evolves_from_species'] else 'None'\n",
    "        }\n",
    "     \n",
    "    \n",
    "        # Convert the dictionary into a pd.DataFrame\n",
    "        pokemon_dict_list.append(pokemon_info)\n",
    "    else:\n",
    "        print(f\"failed to retrieve columns for {name}\")\n",
    "        \n",
    "df1 = pd.DataFrame(pokemon_dict_list)\n",
    "df1.set_index('name', inplace= True)\n",
    "df1\n",
    "\n",
    "print(pokemon_info['egg_group'])\n"
   ]
  },
  {
   "cell_type": "code",
   "execution_count": 6,
   "metadata": {},
   "outputs": [
    {
     "name": "stdout",
     "output_type": "stream",
     "text": [
      "DataFrame has been converted to 'pokemon_data.csv'\n"
     ]
    }
   ],
   "source": [
    "# Step 4: Convert DataFrame to CSV\n",
    "df1.to_csv(\"pokemon_characteristics.csv\",index= True)\n",
    "\n",
    "print(\"DataFrame has been converted to 'pokemon_data.csv'\")\n",
    "\n"
   ]
  }
 ],
 "metadata": {
  "kernelspec": {
   "display_name": "Python 3",
   "language": "python",
   "name": "python3"
  },
  "language_info": {
   "codemirror_mode": {
    "name": "ipython",
    "version": 3
   },
   "file_extension": ".py",
   "mimetype": "text/x-python",
   "name": "python",
   "nbconvert_exporter": "python",
   "pygments_lexer": "ipython3",
   "version": "3.12.4"
  }
 },
 "nbformat": 4,
 "nbformat_minor": 2
}
