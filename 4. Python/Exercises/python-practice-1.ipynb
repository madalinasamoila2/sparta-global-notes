{
 "cells": [
  {
   "cell_type": "markdown",
   "metadata": {},
   "source": [
    "\n",
    "DATA TYPES\n"
   ]
  },
  {
   "cell_type": "code",
   "execution_count": 7,
   "metadata": {},
   "outputs": [
    {
     "name": "stdout",
     "output_type": "stream",
     "text": [
      "<class 'int'>\n",
      "<class 'float'>\n"
     ]
    }
   ],
   "source": [
    "# integers\n",
    "print(type(5))\n",
    "\n",
    "# float\n",
    "print(type(5.5))\n"
   ]
  },
  {
   "cell_type": "code",
   "execution_count": 10,
   "metadata": {},
   "outputs": [
    {
     "name": "stdout",
     "output_type": "stream",
     "text": [
      "2\n"
     ]
    }
   ],
   "source": [
    "# MODULO OPERATOR 6/4 and returns remainder\n",
    "print(6 % 4)"
   ]
  },
  {
   "cell_type": "code",
   "execution_count": 13,
   "metadata": {},
   "outputs": [
    {
     "name": "stdout",
     "output_type": "stream",
     "text": [
      "a\n"
     ]
    }
   ],
   "source": [
    "# STRINGS - python doesn't see words, paragraphs, it sees a group of unicode characters within double or single quotes\n",
    "print(u'\\u0061')"
   ]
  },
  {
   "cell_type": "code",
   "execution_count": 17,
   "metadata": {},
   "outputs": [
    {
     "name": "stdout",
     "output_type": "stream",
     "text": [
      "11\n",
      "Hello \n"
     ]
    }
   ],
   "source": [
    "# LENGTH\n",
    "print(len(\"Hello world\"))\n",
    "\n",
    "# SLICING \n",
    "print(\"Hello World\"[:6])"
   ]
  },
  {
   "cell_type": "code",
   "execution_count": 27,
   "metadata": {},
   "outputs": [
    {
     "name": "stdout",
     "output_type": "stream",
     "text": [
      "<class 'bool'>\n",
      "False\n",
      "True\n",
      "True\n",
      "True\n",
      "False\n",
      "True\n",
      "True\n"
     ]
    }
   ],
   "source": [
    "# BOOLEAN\n",
    "print(type(True))\n",
    "\n",
    "# Equal operator\n",
    "print(3 == 4)\n",
    "\n",
    "# Not equal operator \n",
    "print(3 != 4)\n",
    "\n",
    "# Number example\n",
    "print(2 < 2.5)\n",
    "\n",
    "# Number & Strings\n",
    "# print(2 < \"2\")\n",
    "\n",
    "# Truthy/ Falsey - anything other than 0 is considered true\n",
    "print(bool(1))\n",
    "print(bool(0))\n",
    "print(bool(-1))\n",
    "print(bool(\" \"))"
   ]
  },
  {
   "cell_type": "markdown",
   "metadata": {},
   "source": [
    "VARIABLES\n"
   ]
  },
  {
   "cell_type": "code",
   "execution_count": 30,
   "metadata": {},
   "outputs": [
    {
     "name": "stdout",
     "output_type": "stream",
     "text": [
      "8.5\n"
     ]
    }
   ],
   "source": [
    "# Reserved memory locations allowing us to stoere data types and objects\n",
    "a = 4\n",
    "b = 4.5\n",
    "print(a+b)"
   ]
  },
  {
   "cell_type": "code",
   "execution_count": 38,
   "metadata": {},
   "outputs": [
    {
     "name": "stdout",
     "output_type": "stream",
     "text": [
      "Madalina Samoila 24\n",
      "someone then said, 'text can be tricky'\n",
      "someone then said, \"text can be tricky\"\n"
     ]
    }
   ],
   "source": [
    "# CONCATENATION\n",
    "first_name = 'Madalina'\n",
    "last_name = 'Samoila'\n",
    "age = 24\n",
    "\n",
    "full_name = first_name + ' ' + last_name \n",
    "print(full_name + ' ' + str(age))\n",
    "\n",
    "text1 = 'someone then said, \\'text can be tricky\\''\n",
    "text2 = \"someone then said, \\\"text can be tricky\\\"\"\n",
    "print(text1)\n",
    "print(text2)"
   ]
  },
  {
   "cell_type": "markdown",
   "metadata": {},
   "source": [
    "STRING METHODS"
   ]
  },
  {
   "cell_type": "code",
   "execution_count": 43,
   "metadata": {},
   "outputs": [
    {
     "name": "stdout",
     "output_type": "stream",
     "text": [
      "MADALINA\n",
      "madalina\n",
      "Madalina\n",
      "Mudulinu\n"
     ]
    }
   ],
   "source": [
    "first_name = 'Madalina'\n",
    "\n",
    "# UPPER\n",
    "print(first_name.upper())\n",
    "\n",
    "# LOWER\n",
    "print(first_name.lower())\n",
    "\n",
    "# TITLE\n",
    "print(first_name.title())\n",
    "\n",
    "# REPLACE\n",
    "print(first_name.replace('a','u'))\n",
    "\n",
    "# https://docs.python.org/3/library/stdtypes.html#string-methods\n"
   ]
  },
  {
   "cell_type": "markdown",
   "metadata": {},
   "source": [
    "CONTROL FLOW EXERCISES"
   ]
  },
  {
   "cell_type": "code",
   "execution_count": 53,
   "metadata": {},
   "outputs": [
    {
     "name": "stdout",
     "output_type": "stream",
     "text": [
      "Customer can only watch U, PG, 12 & 15 Films.\n"
     ]
    }
   ],
   "source": [
    "# CONTROL FLOW \n",
    "# Solving problems\n",
    "\n",
    "# E1 Notifying individuals of the films they can see based on their age\n",
    "# 1. under 12 - U, PG & 12 films available\n",
    "# 2. under 15 - U, PG, 12, 15 films available\n",
    "# 3. Over 18 - all films are available\n",
    "\n",
    "\n",
    "customer_age = 13\n",
    "\n",
    "if customer_age < 12:\n",
    "    print(\"Customer can only watch U, PG & 12 Films.\")\n",
    "elif customer_age < 15:\n",
    "    print(\"Customer can only watch U, PG, 12 & 15 Films.\")\n",
    "else:\n",
    "    print(\"Customer can watch any films\")\n"
   ]
  },
  {
   "cell_type": "code",
   "execution_count": 58,
   "metadata": {},
   "outputs": [
    {
     "name": "stdout",
     "output_type": "stream",
     "text": [
      "Good Morning\n"
     ]
    }
   ],
   "source": [
    "# E2 Relates to giving a chat bot a specific meeting based on time of day\n",
    "# Betwen 5-12am Good Morning\n",
    "# Between 12-6pm Good Afternoon\n",
    "# Between 6-12pm Good Evening\n",
    "\n",
    "time_of_day = 12\n",
    "\n",
    "if time_of_day > 5 and time_of_day < 13:\n",
    "    print(\"Good Morning\")\n",
    "elif time_of_day > 12 and time_of_day < 18:\n",
    "    print(\"Good Afternoon\")\n",
    "else:\n",
    "    print(\"Good Evening\")"
   ]
  },
  {
   "cell_type": "markdown",
   "metadata": {},
   "source": [
    "COLLECTIONS"
   ]
  },
  {
   "cell_type": "code",
   "execution_count": 71,
   "metadata": {},
   "outputs": [
    {
     "name": "stdout",
     "output_type": "stream",
     "text": [
      "1\n",
      "string\n",
      "['eggs', 'bread', 'banana', 'mushrooms']\n",
      "['eggs', 'bread']\n",
      "['bread']\n",
      "0\n"
     ]
    }
   ],
   "source": [
    "# LISTS\n",
    "\n",
    "# Can contain ['String',Integers,Floats, Boolea, [\"Another List\"]]\n",
    "# index based\n",
    "# KEY VALUE pairs\n",
    "\n",
    "# {Key, Value}\n",
    "# {\"name\": \"Peter\"}\n",
    "# {\"age\":35}\n",
    "\n",
    "example_list = [1,True, \"string\"]\n",
    "# return first number in a list\n",
    "print(example_list[0])\n",
    "\n",
    "# return last number in our list\n",
    "print(example_list[-1])\n",
    "\n",
    "# APPEND\n",
    "shopping_list = [\"eggs\",\"bread\",\"banana\"]\n",
    "shopping_list.append(\"mushrooms\")\n",
    "print(shopping_list)\n",
    "\n",
    "# POP() - removes the last item just added\n",
    "shopping_list = [\"eggs\",\"bread\",\"banana\"]\n",
    "shopping_list.pop()\n",
    "print(shopping_list)\n",
    "\n",
    "# POP(0) - removes the first item\n",
    "shopping_list.pop(0)\n",
    "print(shopping_list)\n",
    "\n",
    "# INDEX\n",
    "print(shopping_list.index(\"bread\"))\n",
    "\n",
    "# https://docs.python.org/3/library/stdtypes.html#list\n"
   ]
  },
  {
   "cell_type": "markdown",
   "metadata": {},
   "source": [
    "DICTIONAIRIES"
   ]
  },
  {
   "cell_type": "code",
   "execution_count": 86,
   "metadata": {},
   "outputs": [
    {
     "name": "stdout",
     "output_type": "stream",
     "text": [
      "<class 'dict'>\n",
      "073434534232\n",
      "{'jane': '0244023943094', 'bob': '02430242343'}\n",
      "dict_keys(['jane', 'bob'])\n",
      "dict_values(['0244023943094', '02430242343'])\n",
      "0244023943094\n",
      "{'bob': '02430242343'}\n",
      "dict_keys(['mary'])\n"
     ]
    }
   ],
   "source": [
    "# Key Value Pairs\n",
    "contact_list = {\n",
    "    \"jane\": \"073434534232\"\n",
    "}\n",
    "# Key : Jane\n",
    "# Value : PhoneNumber\n",
    "\n",
    "print(type(contact_list))\n",
    "print(contact_list[\"jane\"])\n",
    "\n",
    "# To add a new key:value pair \n",
    "contact_list[\"bob\"] = \"02430242343\"\n",
    "\n",
    "# To overrite the data\n",
    "contact_list[\"jane\"] = \"0244023943094\"\n",
    "print(contact_list)\n",
    "\n",
    "# RETURN ALL KEYS\n",
    "print(contact_list.keys())\n",
    "\n",
    "# RETURN ALL VALUES\n",
    "print(contact_list.values())\n",
    "\n",
    "# REMOVE A PARTICULAR ENTRIES\n",
    "print(contact_list.pop('jane'))\n",
    "print(contact_list)\n",
    "\n",
    "# DICTIONARY WITHIN DICTIONARY\n",
    "contact_list = {\"a\":{\"jane\":\"0329423043\"},\n",
    "                \"b\":{\"mary\":\"0342343423\"},\n",
    "                \"c\":{\"bob\":\"0423434234\"}}\n",
    "print(contact_list['b'].keys())\n",
    "\n",
    "# https://docs.python.org/3/library/stdtypes.html#mapping-types-dict\n"
   ]
  },
  {
   "cell_type": "markdown",
   "metadata": {},
   "source": [
    "LOOPS"
   ]
  },
  {
   "cell_type": "code",
   "execution_count": 87,
   "metadata": {},
   "outputs": [
    {
     "name": "stdout",
     "output_type": "stream",
     "text": [
      "[1234, 4567, 99, 5]\n"
     ]
    }
   ],
   "source": [
    "theList = []\n",
    "theList.append(1234)\n",
    "theList.append(4567)\n",
    "theList.append(99)\n",
    "theList.append(5)\n",
    "print(theList)"
   ]
  },
  {
   "cell_type": "code",
   "execution_count": 41,
   "metadata": {},
   "outputs": [
    {
     "name": "stdout",
     "output_type": "stream",
     "text": [
      "\n",
      "Q2b\n",
      "\n",
      "['AT', 'LF', 'KJ', 'AE', 'TT']\n"
     ]
    }
   ],
   "source": [
    "print(\"\\nQ2b\\n\")\n",
    "# Q2b: from the list of names, create another list that consists of only the index of the space in the string\n",
    "# HINT: use your_string.index(\"substring\")\n",
    "names = [\"Alan Turing\", \"Leonardo Fibonacci\", \"Katherine Johnson\", \"Annie Easley\", \"Terence Tao\"]\n",
    "\n",
    "initials_list = []\n",
    "\n",
    "for name in names:\n",
    "    space_index = name.index(\" \")\n",
    "    first_initial = name[0]\n",
    "    last_initial = name[space_index + 1]\n",
    "    initials = first_initial + last_initial\n",
    "    initials_list.append(initials)\n",
    "print(initials_list)\n",
    "\n",
    "# initial_list = []\n",
    "# for i in names:\n",
    "#     initial_list.append(i[0])\n",
    "# print(initial_list)\n"
   ]
  },
  {
   "cell_type": "code",
   "execution_count": 42,
   "metadata": {},
   "outputs": [
    {
     "name": "stdout",
     "output_type": "stream",
     "text": [
      "\n",
      "Q2c\n",
      "\n"
     ]
    },
    {
     "data": {
      "text/plain": [
       "'Terence Tao'"
      ]
     },
     "execution_count": 42,
     "metadata": {},
     "output_type": "execute_result"
    }
   ],
   "source": [
    "print(\"\\nQ2c\\n\")\n",
    "# Q2c: from the list of names, create another list that consists of the first and last initial of each individual\n",
    "names = [\"Alan Turing\", \"Leonardo Fibonacci\", \"Katherine Johnson\", \"Annie Easley\", \"Terence Tao\"]\n",
    "\n",
    "# A2c:\n",
    "initials_list = []\n",
    "# for i in names:\n",
    "#     print(i[[int(space_indices[0])]])\n",
    "\n",
    "names[(space_indices[0])]\n"
   ]
  },
  {
   "cell_type": "code",
   "execution_count": 58,
   "metadata": {},
   "outputs": [
    {
     "name": "stdout",
     "output_type": "stream",
     "text": [
      "{1, 2, 3, 4}\n",
      "{3, 4, 5, 6}\n"
     ]
    }
   ],
   "source": [
    "# use SETS to remove duplicates\n",
    "a = {1, 2, 3}\n",
    "b = {3, 4, 5}\n",
    "\n",
    "a.union(b)        # {1, 2, 3, 4, 5}\n",
    "a.intersection(b) # {3}\n",
    "a.difference(b)   # {1, 2}\n",
    "a.symmetric_difference(b)  # {1, 2, 4, 5}\n",
    "\n",
    "a.add(4)\n",
    "print(a)\n",
    "b.add(6)\n",
    "print(b)"
   ]
  },
  {
   "cell_type": "code",
   "execution_count": 59,
   "metadata": {},
   "outputs": [
    {
     "name": "stdout",
     "output_type": "stream",
     "text": [
      "{1, 2, 3, 4}\n",
      "{3, 4, 5, 6}\n"
     ]
    }
   ],
   "source": [
    "my_set = {1, 2, 3, 4}\n",
    "another_set = set([3, 4, 5, 6])\n",
    "print(my_set)\n",
    "print(another_set)\n"
   ]
  },
  {
   "cell_type": "code",
   "execution_count": 17,
   "metadata": {},
   "outputs": [
    {
     "name": "stdout",
     "output_type": "stream",
     "text": [
      "Please enter a prime number. Number 110 you've entered is not prime.\n"
     ]
    },
    {
     "ename": "KeyboardInterrupt",
     "evalue": "Interrupted by user",
     "output_type": "error",
     "traceback": [
      "\u001b[0;31m---------------------------------------------------------------------------\u001b[0m",
      "\u001b[0;31mKeyboardInterrupt\u001b[0m                         Traceback (most recent call last)",
      "Cell \u001b[0;32mIn[17], line 9\u001b[0m\n\u001b[1;32m      6\u001b[0m \u001b[38;5;28;01mfrom\u001b[39;00m \u001b[38;5;21;01msympy\u001b[39;00m \u001b[38;5;28;01mimport\u001b[39;00m \u001b[38;5;241m*\u001b[39m\n\u001b[1;32m      8\u001b[0m \u001b[38;5;28;01mwhile\u001b[39;00m \u001b[38;5;28;01mTrue\u001b[39;00m:\n\u001b[0;32m----> 9\u001b[0m     input_number \u001b[38;5;241m=\u001b[39m \u001b[38;5;28;43minput\u001b[39;49m\u001b[43m(\u001b[49m\u001b[38;5;124;43m\"\u001b[39;49m\u001b[38;5;124;43mInput a prime number greater than 100\u001b[39;49m\u001b[38;5;124;43m\"\u001b[39;49m\u001b[43m)\u001b[49m\n\u001b[1;32m     10\u001b[0m     number \u001b[38;5;241m=\u001b[39m \u001b[38;5;28mint\u001b[39m(input_number)\n\u001b[1;32m     11\u001b[0m     \u001b[38;5;28;01mif\u001b[39;00m isprime(number):\n",
      "File \u001b[0;32m/Library/Frameworks/Python.framework/Versions/3.12/lib/python3.12/site-packages/ipykernel/kernelbase.py:1282\u001b[0m, in \u001b[0;36mKernel.raw_input\u001b[0;34m(self, prompt)\u001b[0m\n\u001b[1;32m   1280\u001b[0m     msg \u001b[38;5;241m=\u001b[39m \u001b[38;5;124m\"\u001b[39m\u001b[38;5;124mraw_input was called, but this frontend does not support input requests.\u001b[39m\u001b[38;5;124m\"\u001b[39m\n\u001b[1;32m   1281\u001b[0m     \u001b[38;5;28;01mraise\u001b[39;00m StdinNotImplementedError(msg)\n\u001b[0;32m-> 1282\u001b[0m \u001b[38;5;28;01mreturn\u001b[39;00m \u001b[38;5;28;43mself\u001b[39;49m\u001b[38;5;241;43m.\u001b[39;49m\u001b[43m_input_request\u001b[49m\u001b[43m(\u001b[49m\n\u001b[1;32m   1283\u001b[0m \u001b[43m    \u001b[49m\u001b[38;5;28;43mstr\u001b[39;49m\u001b[43m(\u001b[49m\u001b[43mprompt\u001b[49m\u001b[43m)\u001b[49m\u001b[43m,\u001b[49m\n\u001b[1;32m   1284\u001b[0m \u001b[43m    \u001b[49m\u001b[38;5;28;43mself\u001b[39;49m\u001b[38;5;241;43m.\u001b[39;49m\u001b[43m_parent_ident\u001b[49m\u001b[43m[\u001b[49m\u001b[38;5;124;43m\"\u001b[39;49m\u001b[38;5;124;43mshell\u001b[39;49m\u001b[38;5;124;43m\"\u001b[39;49m\u001b[43m]\u001b[49m\u001b[43m,\u001b[49m\n\u001b[1;32m   1285\u001b[0m \u001b[43m    \u001b[49m\u001b[38;5;28;43mself\u001b[39;49m\u001b[38;5;241;43m.\u001b[39;49m\u001b[43mget_parent\u001b[49m\u001b[43m(\u001b[49m\u001b[38;5;124;43m\"\u001b[39;49m\u001b[38;5;124;43mshell\u001b[39;49m\u001b[38;5;124;43m\"\u001b[39;49m\u001b[43m)\u001b[49m\u001b[43m,\u001b[49m\n\u001b[1;32m   1286\u001b[0m \u001b[43m    \u001b[49m\u001b[43mpassword\u001b[49m\u001b[38;5;241;43m=\u001b[39;49m\u001b[38;5;28;43;01mFalse\u001b[39;49;00m\u001b[43m,\u001b[49m\n\u001b[1;32m   1287\u001b[0m \u001b[43m\u001b[49m\u001b[43m)\u001b[49m\n",
      "File \u001b[0;32m/Library/Frameworks/Python.framework/Versions/3.12/lib/python3.12/site-packages/ipykernel/kernelbase.py:1325\u001b[0m, in \u001b[0;36mKernel._input_request\u001b[0;34m(self, prompt, ident, parent, password)\u001b[0m\n\u001b[1;32m   1322\u001b[0m \u001b[38;5;28;01mexcept\u001b[39;00m \u001b[38;5;167;01mKeyboardInterrupt\u001b[39;00m:\n\u001b[1;32m   1323\u001b[0m     \u001b[38;5;66;03m# re-raise KeyboardInterrupt, to truncate traceback\u001b[39;00m\n\u001b[1;32m   1324\u001b[0m     msg \u001b[38;5;241m=\u001b[39m \u001b[38;5;124m\"\u001b[39m\u001b[38;5;124mInterrupted by user\u001b[39m\u001b[38;5;124m\"\u001b[39m\n\u001b[0;32m-> 1325\u001b[0m     \u001b[38;5;28;01mraise\u001b[39;00m \u001b[38;5;167;01mKeyboardInterrupt\u001b[39;00m(msg) \u001b[38;5;28;01mfrom\u001b[39;00m \u001b[38;5;28;01mNone\u001b[39;00m\n\u001b[1;32m   1326\u001b[0m \u001b[38;5;28;01mexcept\u001b[39;00m \u001b[38;5;167;01mException\u001b[39;00m:\n\u001b[1;32m   1327\u001b[0m     \u001b[38;5;28mself\u001b[39m\u001b[38;5;241m.\u001b[39mlog\u001b[38;5;241m.\u001b[39mwarning(\u001b[38;5;124m\"\u001b[39m\u001b[38;5;124mInvalid Message:\u001b[39m\u001b[38;5;124m\"\u001b[39m, exc_info\u001b[38;5;241m=\u001b[39m\u001b[38;5;28;01mTrue\u001b[39;00m)\n",
      "\u001b[0;31mKeyboardInterrupt\u001b[0m: Interrupted by user"
     ]
    }
   ],
   "source": [
    "# Q4a: Using a while loop, ask the user to input a number greater than 100, if they enter anything else,\n",
    "# get them to enter again (and repeat until the conditions are satisfied). Finally print the number that\n",
    "# they entered\n",
    "\n",
    "# A4a:\n",
    "from sympy import *\n",
    "\n",
    "while True:\n",
    "    input_number = input(\"Input a prime number greater than 100\")\n",
    "    number = int(input_number)\n",
    "    if isprime(number):\n",
    "\n",
    "        if number > 100:\n",
    "            print(f\"Great! Number {number} is more than 100 and prime!\")\n",
    "            break\n",
    "        else:\n",
    "            print(f\"Try again, number {number} is not greater than 100\")\n",
    "    else: \n",
    "        print(f\"Please enter a prime number. Number {number} you've entered is not prime.\")\n",
    "        \n"
   ]
  },
  {
   "cell_type": "code",
   "execution_count": 16,
   "metadata": {},
   "outputs": [
    {
     "name": "stdout",
     "output_type": "stream",
     "text": [
      "True\n"
     ]
    }
   ],
   "source": [
    "from sympy import *\n",
    "\n",
    "g1 = isprime(109)\n",
    "print(g1)"
   ]
  },
  {
   "cell_type": "code",
   "execution_count": 30,
   "metadata": {},
   "outputs": [
    {
     "name": "stdout",
     "output_type": "stream",
     "text": [
      "\n",
      "Q1b\n",
      "\n",
      "False\n"
     ]
    }
   ],
   "source": [
    "\n",
    "# Q1a: Write a function which takes in an integer as an argument and returns the divisors of that number as a list\n",
    "# e.g. f(12) = [1, 2, 3, 4, 6, 12]\n",
    "# hint: range(1, n) returns a collection of the numbers from 1 to n-1\n",
    "\n",
    "# A1a:\n",
    "def divisors(n):\n",
    "    divisor_list = []\n",
    "    for i in range(1,n+1):\n",
    "        if n % i == 0:\n",
    "            divisor_list.append(i)\n",
    "    return divisor_list\n",
    "\n",
    "\n",
    "print(\"\\nQ1b\\n\")\n",
    "# Q1b: Write a function which takes in two integers as arguments and returns true if one of the numbers\n",
    "# is a factor of the other, false otherwise\n",
    "# (bonus points if you call your previous function within this function\n",
    "\n",
    "# A1b:\n",
    "def is_factor(num1,num2):\n",
    "    if num1 in divisors(num2) or num2 in divisors(num1):\n",
    "        return True\n",
    "    return False\n",
    "\n",
    "print(is_factor(5,12))\n",
    "\n"
   ]
  },
  {
   "cell_type": "code",
   "execution_count": 39,
   "metadata": {},
   "outputs": [
    {
     "name": "stdout",
     "output_type": "stream",
     "text": [
      "1\n",
      "3\n"
     ]
    }
   ],
   "source": [
    "# Q2a: write a function which takes a letter (as a string) as an input and outputs it's position in the alphabet\n",
    "# alphabet = [\"a\", \"b\", \"c\", \"d\", \"e\", \"f\", \"g\", \"h\", \"i\", \"j\", \"k\", \"l\", \"m\",\n",
    "#             \"n\", \"o\", \"p\", \"q\", \"r\", \"s\", \"t\", \"u\", \"v\", \"w\", \"x\", \"y\", \"z\", \" \"]\n",
    "\n",
    "# A2a:\n",
    "\n",
    "def letter_position(x):\n",
    "    alphabet = [\"a\", \"b\", \"c\", \"d\", \"e\", \"f\", \"g\", \"h\", \"i\", \"j\", \"k\", \"l\", \"m\", \n",
    "                \"n\", \"o\", \"p\", \"q\", \"r\", \"s\", \"t\", \"u\", \"v\", \"w\", \"x\", \"y\", \"z\"]\n",
    "    return alphabet.index(x) + 1\n",
    "    \n",
    "\n",
    "print(letter_position(\"a\"))\n",
    "print(letter_position(\"c\"))"
   ]
  },
  {
   "cell_type": "code",
   "execution_count": 51,
   "metadata": {},
   "outputs": [
    {
     "name": "stdout",
     "output_type": "stream",
     "text": [
      "13 1 4 1 12 9 14 1\n"
     ]
    }
   ],
   "source": [
    "# Q2b: create a function which takes a persons name as an input string and returns an\n",
    "# ID number consisting of the positions of each letter in the name\n",
    "# e.g. f(\"bob\") = \"1141\" as \"b\" is in position 1 and \"o\" is in position 14\n",
    "\n",
    "def generate_id(name):\n",
    "    return ' '.join([str(letter_position(i)) for i in name.lower()])\n",
    "\n",
    "print(generate_id('madalina'))"
   ]
  },
  {
   "cell_type": "code",
   "execution_count": 69,
   "metadata": {},
   "outputs": [
    {
     "name": "stdout",
     "output_type": "stream",
     "text": [
      "0\n",
      "2\n",
      "1134\n"
     ]
    }
   ],
   "source": [
    "# Q2c: Create a function which turns this ID into a password. The function should subtract\n",
    "# the sum of the numbers in the id that was generated from the whole number of the id.\n",
    "# e.g. f(\"bob\") -> 1134 (because bob's id was 1141 and 1+1+4+1 = 7 so 1141 - 7 = 1134)\n",
    "def letter_position(x):\n",
    "    alphabet = [\"a\", \"b\", \"c\", \"d\", \"e\", \"f\", \"g\", \"h\", \"i\", \"j\", \"k\", \"l\", \"m\", \n",
    "                \"n\", \"o\", \"p\", \"q\", \"r\", \"s\", \"t\", \"u\", \"v\", \"w\", \"x\", \"y\", \"z\"]\n",
    "    return alphabet.index(x)\n",
    "    \n",
    "\n",
    "print(letter_position(\"a\"))\n",
    "print(letter_position(\"c\"))\n",
    "\n",
    "def generate_id(name):\n",
    "    return ''.join([str(letter_position(i)) for i in name.lower()])\n",
    "\n",
    "\n",
    "def generate_password(name):\n",
    "\n",
    "    id_string = generate_id(name)\n",
    "    \n",
    "    id_numbers = [int(digit) for digit in id_string]\n",
    "    \n",
    "    sum_digits = sum(id_numbers)\n",
    "    password = int(id_string) - sum_digits\n",
    "\n",
    "    print(password)\n",
    "\n",
    "generate_password('bob')\n"
   ]
  }
 ],
 "metadata": {
  "kernelspec": {
   "display_name": "Python 3",
   "language": "python",
   "name": "python3"
  },
  "language_info": {
   "codemirror_mode": {
    "name": "ipython",
    "version": 3
   },
   "file_extension": ".py",
   "mimetype": "text/x-python",
   "name": "python",
   "nbconvert_exporter": "python",
   "pygments_lexer": "ipython3",
   "version": "3.12.4"
  }
 },
 "nbformat": 4,
 "nbformat_minor": 2
}
