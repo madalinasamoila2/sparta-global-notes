{
 "cells": [
  {
   "cell_type": "markdown",
   "metadata": {},
   "source": [
    "## BEGINNER EXERCISES\n"
   ]
  },
  {
   "cell_type": "markdown",
   "metadata": {},
   "source": [
    "#### Q1) FizzBuzz – Print numbers from 1 to 100, but replace multiples of 3 with \"Fizz\", 5 with \"Buzz\", and both with \"FizzBuzz\"."
   ]
  },
  {
   "cell_type": "code",
   "execution_count": 12,
   "metadata": {},
   "outputs": [
    {
     "name": "stdout",
     "output_type": "stream",
     "text": [
      "1\n",
      "2\n",
      "3,Fizz\n",
      "3\n",
      "4\n",
      "5,Buzz\n",
      "5\n",
      "6,Fizz\n",
      "6\n",
      "7\n",
      "8\n",
      "9,Fizz\n",
      "9\n",
      "10,Buzz\n",
      "10\n",
      "11\n",
      "12,Fizz\n",
      "12\n",
      "13\n",
      "14\n",
      "15,Fizz\n",
      "15,Buzz\n",
      "15,FizzBuzz\n",
      "16\n",
      "17\n",
      "18,Fizz\n",
      "18\n",
      "19\n",
      "20,Buzz\n",
      "20\n",
      "21,Fizz\n",
      "21\n",
      "22\n",
      "23\n",
      "24,Fizz\n",
      "24\n",
      "25,Buzz\n",
      "25\n",
      "26\n",
      "27,Fizz\n",
      "27\n",
      "28\n",
      "29\n",
      "30,Fizz\n",
      "30,Buzz\n",
      "30,FizzBuzz\n",
      "31\n",
      "32\n",
      "33,Fizz\n",
      "33\n",
      "34\n",
      "35,Buzz\n",
      "35\n",
      "36,Fizz\n",
      "36\n",
      "37\n",
      "38\n",
      "39,Fizz\n",
      "39\n",
      "40,Buzz\n",
      "40\n",
      "41\n",
      "42,Fizz\n",
      "42\n",
      "43\n",
      "44\n",
      "45,Fizz\n",
      "45,Buzz\n",
      "45,FizzBuzz\n",
      "46\n",
      "47\n",
      "48,Fizz\n",
      "48\n",
      "49\n",
      "50,Buzz\n",
      "50\n",
      "51,Fizz\n",
      "51\n",
      "52\n",
      "53\n",
      "54,Fizz\n",
      "54\n",
      "55,Buzz\n",
      "55\n",
      "56\n",
      "57,Fizz\n",
      "57\n",
      "58\n",
      "59\n",
      "60,Fizz\n",
      "60,Buzz\n",
      "60,FizzBuzz\n",
      "61\n",
      "62\n",
      "63,Fizz\n",
      "63\n",
      "64\n",
      "65,Buzz\n",
      "65\n",
      "66,Fizz\n",
      "66\n",
      "67\n",
      "68\n",
      "69,Fizz\n",
      "69\n",
      "70,Buzz\n",
      "70\n",
      "71\n",
      "72,Fizz\n",
      "72\n",
      "73\n",
      "74\n",
      "75,Fizz\n",
      "75,Buzz\n",
      "75,FizzBuzz\n",
      "76\n",
      "77\n",
      "78,Fizz\n",
      "78\n",
      "79\n",
      "80,Buzz\n",
      "80\n",
      "81,Fizz\n",
      "81\n",
      "82\n",
      "83\n",
      "84,Fizz\n",
      "84\n",
      "85,Buzz\n",
      "85\n",
      "86\n",
      "87,Fizz\n",
      "87\n",
      "88\n",
      "89\n",
      "90,Fizz\n",
      "90,Buzz\n",
      "90,FizzBuzz\n",
      "91\n",
      "92\n",
      "93,Fizz\n",
      "93\n",
      "94\n",
      "95,Buzz\n",
      "95\n",
      "96,Fizz\n",
      "96\n",
      "97\n",
      "98\n",
      "99,Fizz\n",
      "99\n",
      "100,Buzz\n",
      "100\n"
     ]
    }
   ],
   "source": [
    "for i in range(1,101):\n",
    "    if i % 3 == 0:\n",
    "        print(f\"{i},Fizz\")\n",
    "    if i % 5 == 0:\n",
    "        print(f\"{i},Buzz\")\n",
    "    if i % 3 == 0 and i % 5 == 0:\n",
    "        print(f\"{i},FizzBuzz\")\n",
    "    else:\n",
    "        print(i)\n",
    "\n",
    "# WELL DONE !!!!!!"
   ]
  },
  {
   "cell_type": "markdown",
   "metadata": {},
   "source": [
    "#### Q2. Palindrome Checker – Check if a string is a palindrome (reads the same backward)."
   ]
  },
  {
   "cell_type": "code",
   "execution_count": 85,
   "metadata": {},
   "outputs": [
    {
     "name": "stdout",
     "output_type": "stream",
     "text": [
      "parallelipipied is not palindrome\n"
     ]
    }
   ],
   "source": [
    "x = input(\"input a word to check if it's palindrome\")\n",
    "\n",
    "def is_palindrome(x):\n",
    "    if x == x[::-1]:\n",
    "        print(f\"{x} is palindrome\")\n",
    "    else:\n",
    "        print(f\"{x} is not palindrome\")\n",
    "\n",
    "is_palindrome(x)\n",
    "        \n",
    "\n",
    "\n"
   ]
  },
  {
   "cell_type": "code",
   "execution_count": 91,
   "metadata": {},
   "outputs": [
    {
     "name": "stdout",
     "output_type": "stream",
     "text": [
      "3.0\n"
     ]
    }
   ],
   "source": [
    "print(9**0.5)"
   ]
  },
  {
   "cell_type": "markdown",
   "metadata": {},
   "source": [
    "### Q3. Prime Number Finder – Write a function that lists all primes under 100."
   ]
  },
  {
   "cell_type": "code",
   "execution_count": 105,
   "metadata": {},
   "outputs": [
    {
     "name": "stdout",
     "output_type": "stream",
     "text": [
      "[2, 3, 5, 7, 11, 13, 17, 19, 23, 29, 31, 37, 41, 43, 47, 53, 59, 61, 67, 71, 73, 79, 83, 89, 97]\n"
     ]
    }
   ],
   "source": [
    "def is_prime(n):\n",
    "    if n <= 1:\n",
    "        return False\n",
    "    for i in range(2,int(n**0.5)+1):\n",
    "        if n % i == 0:\n",
    "            return False\n",
    "    return True\n",
    "\n",
    "primes = [n for n in range(2,101) if is_prime(n)]\n",
    "print(primes)"
   ]
  },
  {
   "cell_type": "markdown",
   "metadata": {},
   "source": [
    "### Q4. Basic Calculator - Implement add, subtract, multiply, divide using functions."
   ]
  },
  {
   "cell_type": "code",
   "execution_count": 107,
   "metadata": {},
   "outputs": [
    {
     "name": "stdout",
     "output_type": "stream",
     "text": [
      "11\n",
      "3\n"
     ]
    }
   ],
   "source": [
    "def add(x,y):\n",
    "    return x + y\n",
    "\n",
    "def subtract(x,y):\n",
    "    return x - y\n",
    "\n",
    "print(add(5,6))\n",
    "print(subtract(8,5))\n"
   ]
  },
  {
   "cell_type": "markdown",
   "metadata": {},
   "source": [
    "### Q5. Guess the Number Game – Python randomly picks a number; user tries to guess it."
   ]
  },
  {
   "cell_type": "code",
   "execution_count": 116,
   "metadata": {},
   "outputs": [
    {
     "name": "stdout",
     "output_type": "stream",
     "text": [
      "73\n",
      "45 is lower than the number. please try again!\n",
      "60 is lower than the number. please try again!\n",
      "70 is lower than the number. please try again!\n",
      "80 is higher than the number. please try again!\n",
      "75 is higher than the number. please try again!\n",
      "74 is higher than the number. please try again!\n",
      "Congratulations! You have guessed the number. It was 73\n"
     ]
    }
   ],
   "source": [
    "import random as r\n",
    "\n",
    "x = r.randint(1,100)\n",
    "input_guess = None\n",
    "\n",
    "print(x)\n",
    "\n",
    "while x != input_guess:\n",
    "    input_guess = int(input(\"Guess a number between 1 to 100:\"))\n",
    "    if input_guess < x:\n",
    "        print((f\"{input_guess} is lower than the number. please try again!\"))\n",
    "\n",
    "    if input_guess > x:\n",
    "        print((f\"{input_guess} is higher than the number. please try again!\"))\n",
    "else:\n",
    "    print(f\"Congratulations! You have guessed the number. It was {x}\")"
   ]
  },
  {
   "cell_type": "markdown",
   "metadata": {},
   "source": [
    "# INTERMEDIATE EXERCISES"
   ]
  },
  {
   "cell_type": "markdown",
   "metadata": {},
   "source": [
    "#### Q1. Remove dupliacates from a list"
   ]
  },
  {
   "cell_type": "code",
   "execution_count": 118,
   "metadata": {},
   "outputs": [
    {
     "name": "stdout",
     "output_type": "stream",
     "text": [
      "{1, 2, 4, 5, 6, 7, 8}\n"
     ]
    },
    {
     "data": {
      "text/plain": [
       "[1, 2, 3, 4, 24]"
      ]
     },
     "execution_count": 118,
     "metadata": {},
     "output_type": "execute_result"
    }
   ],
   "source": [
    "my_list = [1,2,4,5,5,2,6,7,8]\n",
    "my_set_list = set(my_list)\n",
    "print(my_set_list)\n",
    "\n",
    "# function that removes duplicates\n",
    "\n",
    "def remove_duplicates(lst):\n",
    "    return list(set(lst))\n",
    "\n",
    "remove_duplicates([1,24,4,3,2,4,2,4])"
   ]
  },
  {
   "cell_type": "code",
   "execution_count": 3,
   "metadata": {},
   "outputs": [
    {
     "name": "stdout",
     "output_type": "stream",
     "text": [
      "5\n"
     ]
    }
   ],
   "source": [
    "x = [1,4,9,2,5]\n",
    "x_popped = x.pop(4)\n",
    "print(x_popped)"
   ]
  },
  {
   "cell_type": "markdown",
   "metadata": {},
   "source": [
    "# HACKERRANK QUESTIONS\n"
   ]
  },
  {
   "cell_type": "code",
   "execution_count": 4,
   "metadata": {},
   "outputs": [],
   "source": [
    "# Given an integer, , perform the following conditional actions:\n",
    "# If n is odd, print Weird\n",
    "# If n is even and in the inclusive range of 2 to 5, print Not Weird\n",
    "# If n is even and in the inclusive range of 6 to 20, print Weird\n",
    "# If n is even and greater than 20, print Not Weird\n",
    "# Input Format\n",
    "# A single line containing a positive integer, .\n",
    "# Constraints\n",
    "\n",
    "# Output Format\n",
    "# Print Weird if the number is weird. Otherwise, print Not Weird."
   ]
  },
  {
   "cell_type": "code",
   "execution_count": 9,
   "metadata": {},
   "outputs": [
    {
     "name": "stdout",
     "output_type": "stream",
     "text": [
      "Not Weird\n"
     ]
    }
   ],
   "source": [
    "def is_odd_even(n):\n",
    "    if n % 2 == 0 and n in range(2,6):\n",
    "            print(\"Not Weird\")\n",
    "    elif n % 2 == 0 and n in range(6,21):\n",
    "            print(\"Weird\")\n",
    "\n",
    "is_odd_even(4)"
   ]
  }
 ],
 "metadata": {
  "kernelspec": {
   "display_name": "Python 3",
   "language": "python",
   "name": "python3"
  },
  "language_info": {
   "codemirror_mode": {
    "name": "ipython",
    "version": 3
   },
   "file_extension": ".py",
   "mimetype": "text/x-python",
   "name": "python",
   "nbconvert_exporter": "python",
   "pygments_lexer": "ipython3",
   "version": "3.12.4"
  }
 },
 "nbformat": 4,
 "nbformat_minor": 2
}
