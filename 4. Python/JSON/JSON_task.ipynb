{
 "cells": [
  {
   "cell_type": "markdown",
   "metadata": {},
   "source": [
    "# TASK"
   ]
  },
  {
   "cell_type": "code",
   "execution_count": 1,
   "metadata": {},
   "outputs": [],
   "source": [
    "# Read in the file\n",
    "# Save it as a new file\n",
    "# Save it as a json string\n",
    "# Decode the json string to a dictionary"
   ]
  },
  {
   "cell_type": "code",
   "execution_count": 40,
   "metadata": {},
   "outputs": [
    {
     "name": "stdout",
     "output_type": "stream",
     "text": [
      "exchange_rate dictionary: {'base': 'EUR', 'date': '2017-07-26', 'rates': {'AUD': 1.4717, 'BGN': 1.9558, 'BRL': 3.6806, 'CAD': 1.4576, 'CHF': 1.1152, 'CNY': 7.8646, 'CZK': 26.047, 'DKK': 7.4368, 'GBP': 0.89275, 'HKD': 9.0959, 'HRK': 7.4128, 'HUF': 305.57, 'IDR': 15507.0, 'ILS': 4.1569, 'INR': 74.938, 'JPY': 130.26, 'KRW': 1303.9, 'MXN': 20.664, 'MYR': 4.9889, 'NOK': 9.2893, 'NZD': 1.5678, 'PHP': 58.948, 'PLN': 4.2613, 'RON': 4.5632, 'RUB': 69.705, 'SEK': 9.5705, 'SGD': 1.585, 'THB': 38.996, 'TRY': 4.1406, 'USD': 1.1644, 'ZAR': 15.2}}\n",
      "<class 'dict'>\n",
      "exchange_rate_json_string: {\"base\": \"EUR\", \"date\": \"2017-07-26\", \"rates\": {\"AUD\": 1.4717, \"BGN\": 1.9558, \"BRL\": 3.6806, \"CAD\": 1.4576, \"CHF\": 1.1152, \"CNY\": 7.8646, \"CZK\": 26.047, \"DKK\": 7.4368, \"GBP\": 0.89275, \"HKD\": 9.0959, \"HRK\": 7.4128, \"HUF\": 305.57, \"IDR\": 15507.0, \"ILS\": 4.1569, \"INR\": 74.938, \"JPY\": 130.26, \"KRW\": 1303.9, \"MXN\": 20.664, \"MYR\": 4.9889, \"NOK\": 9.2893, \"NZD\": 1.5678, \"PHP\": 58.948, \"PLN\": 4.2613, \"RON\": 4.5632, \"RUB\": 69.705, \"SEK\": 9.5705, \"SGD\": 1.585, \"THB\": 38.996, \"TRY\": 4.1406, \"USD\": 1.1644, \"ZAR\": 15.2}}\n",
      "<class 'str'>\n",
      "{'base': 'EUR', 'date': '2017-07-26', 'rates': {'AUD': 1.4717, 'BGN': 1.9558, 'BRL': 3.6806, 'CAD': 1.4576, 'CHF': 1.1152, 'CNY': 7.8646, 'CZK': 26.047, 'DKK': 7.4368, 'GBP': 0.89275, 'HKD': 9.0959, 'HRK': 7.4128, 'HUF': 305.57, 'IDR': 15507.0, 'ILS': 4.1569, 'INR': 74.938, 'JPY': 130.26, 'KRW': 1303.9, 'MXN': 20.664, 'MYR': 4.9889, 'NOK': 9.2893, 'NZD': 1.5678, 'PHP': 58.948, 'PLN': 4.2613, 'RON': 4.5632, 'RUB': 69.705, 'SEK': 9.5705, 'SGD': 1.585, 'THB': 38.996, 'TRY': 4.1406, 'USD': 1.1644, 'ZAR': 15.2}}\n",
      "<class 'dict'>\n"
     ]
    }
   ],
   "source": [
    "import json \n",
    "\n",
    "#make these as functions\n",
    "\n",
    "\n",
    "# JSON.LOAD() reading in the file\n",
    "with open(\"exchange_rates.json\") as jsonfile:\n",
    "    exchange_rate = json.load(jsonfile)\n",
    "\n",
    "# JSON.DUMP() saves as a new file as a dictionary\n",
    "with open(\"new_exchange_rates.json\",\"w\") as jsonfile:\n",
    "    json.dump(exchange_rate,jsonfile)\n",
    "\n",
    "# JSON.DUMPS() saves it as a new string\n",
    "exchange_rate_json_string = json.dumps(exchange_rate)\n",
    "\n",
    "# JSON.LOADS() decodes the json.string to a json.dictionary\n",
    "exchange_rate_json_dictionary = json.loads(exchange_rate_json_string)\n",
    "\n",
    "print(f\"exchange_rate dictionary: {exchange_rate}\")\n",
    "print(type(exchange_rate))\n",
    "print(f\"exchange_rate_json_string: {exchange_rate_json_string}\")\n",
    "print(type(exchange_rate_json_string))\n",
    "print(exchange_rate_json_dictionary)\n",
    "print(type(exchange_rate_json_dictionary))\n",
    "\n",
    "\n"
   ]
  },
  {
   "cell_type": "code",
   "execution_count": 41,
   "metadata": {},
   "outputs": [
    {
     "ename": "TypeError",
     "evalue": "dump() missing 1 required positional argument: 'fp'",
     "output_type": "error",
     "traceback": [
      "\u001b[0;31m---------------------------------------------------------------------------\u001b[0m",
      "\u001b[0;31mTypeError\u001b[0m                                 Traceback (most recent call last)",
      "Cell \u001b[0;32mIn[41], line 10\u001b[0m\n\u001b[1;32m      8\u001b[0m \u001b[38;5;66;03m# JSON.DUMP takes a dict and writes to a file\u001b[39;00m\n\u001b[1;32m      9\u001b[0m \u001b[38;5;28;01mwith\u001b[39;00m \u001b[38;5;28mopen\u001b[39m(\u001b[38;5;124m\"\u001b[39m\u001b[38;5;124mnew_json_file.json\u001b[39m\u001b[38;5;124m\"\u001b[39m) \u001b[38;5;28;01mas\u001b[39;00m jsonfile:\n\u001b[0;32m---> 10\u001b[0m     animals \u001b[38;5;241m=\u001b[39m \u001b[43mjson\u001b[49m\u001b[38;5;241;43m.\u001b[39;49m\u001b[43mdump\u001b[49m\u001b[43m(\u001b[49m\u001b[43mjsonfile\u001b[49m\u001b[43m)\u001b[49m\n\u001b[1;32m     12\u001b[0m \u001b[38;5;66;03m# JSON.LOAD loads json file to a dictionary\u001b[39;00m\n\u001b[1;32m     13\u001b[0m \u001b[38;5;28;01mwith\u001b[39;00m \u001b[38;5;28mopen\u001b[39m(\u001b[38;5;124m\"\u001b[39m\u001b[38;5;124mnew_json_file.json\u001b[39m\u001b[38;5;124m\"\u001b[39m) \u001b[38;5;28;01mas\u001b[39;00m jsonfile:\n",
      "\u001b[0;31mTypeError\u001b[0m: dump() missing 1 required positional argument: 'fp'"
     ]
    }
   ],
   "source": [
    "import json\n",
    "\n",
    "animal_data = {\"name\":\"dog\", \"alive\":True, \"age\": 5}\n",
    "\n",
    "# JSON.DUMPS takes a dict --> formatted string\n",
    "animal_data_json_string = json.dumps(animal_data)\n",
    "\n",
    "# JSON.DUMP takes a dict and writes to a file\n",
    "with open(\"new_json_file.json\") as jsonfile:\n",
    "    animals = json.dump(jsonfile)\n",
    "\n",
    "# JSON.LOAD loads json file to a dictionary\n",
    "with open(\"new_json_file.json\") as jsonfile:\n",
    "    animals = json.load(jsonfile)\n",
    "\n",
    "# JSON.LOADS takes a json string and outputs a dict\n",
    "with open(\"new_json_file.json\") as jsonfile:\n",
    "    animals = json.load(jsonfile)\n",
    "\n",
    "print(type(animal_data_json_string))\n"
   ]
  }
 ],
 "metadata": {
  "kernelspec": {
   "display_name": "Python 3",
   "language": "python",
   "name": "python3"
  },
  "language_info": {
   "codemirror_mode": {
    "name": "ipython",
    "version": 3
   },
   "file_extension": ".py",
   "mimetype": "text/x-python",
   "name": "python",
   "nbconvert_exporter": "python",
   "pygments_lexer": "ipython3",
   "version": "3.12.4"
  }
 },
 "nbformat": 4,
 "nbformat_minor": 2
}
