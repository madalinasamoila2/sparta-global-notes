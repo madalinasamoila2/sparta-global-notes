{
 "cells": [
  {
   "cell_type": "markdown",
   "metadata": {},
   "source": [
    "# JSON file"
   ]
  },
  {
   "cell_type": "markdown",
   "metadata": {},
   "source": [
    "##### Transforming dictionairies to JSON"
   ]
  },
  {
   "cell_type": "code",
   "execution_count": 1,
   "metadata": {},
   "outputs": [],
   "source": [
    "# Creating a new dictionary\n",
    "# JSON is formatted with ky:value pairs, you can have all sorts of data type"
   ]
  },
  {
   "cell_type": "markdown",
   "metadata": {},
   "source": [
    "# JSON.DUMPS()"
   ]
  },
  {
   "cell_type": "code",
   "execution_count": 2,
   "metadata": {},
   "outputs": [],
   "source": [
    "# JSON.DUMPS - returns JSON string representations of the object\n",
    "# JSON.DUMP - writes JSON directly to a file-like object. FILE "
   ]
  },
  {
   "cell_type": "code",
   "execution_count": 1,
   "metadata": {},
   "outputs": [
    {
     "name": "stdout",
     "output_type": "stream",
     "text": [
      "<class 'dict'>\n",
      "{'name': 'dog', 'alive': True, 'age': 5}\n",
      "<class 'str'>\n",
      "{\"name\": \"dog\", \"alive\": true, \"age\": 5}\n"
     ]
    }
   ],
   "source": [
    "import json\n",
    "\n",
    "animal_data = {\"name\":\"dog\", \"alive\":True, \"age\": 5}\n",
    "print(type(animal_data))\n",
    "print(animal_data)\n",
    "\n",
    "animal_data_json_string = json.dumps(animal_data)\n",
    "print(type(animal_data_json_string))\n",
    "print(animal_data_json_string)\n",
    "\n",
    "# we need DICTIONAIRIES to be able to retrieve a key:value pair\n",
    "# we need STRINGS (used for APIs - JSON.DUMPS needed)\n"
   ]
  },
  {
   "cell_type": "markdown",
   "metadata": {},
   "source": [
    "# JSON.DUMP()"
   ]
  },
  {
   "cell_type": "code",
   "execution_count": 3,
   "metadata": {},
   "outputs": [],
   "source": [
    "animal_data = {\"name\":\"dog\", \"alive\":True, \"age\": 5}\n",
    "animal_data_json_string = json.dumps(animal_data)\n",
    " \n",
    "with open(\"new_json_file.json\",\"w\") as jsonfile:\n",
    "    json.dump(animal_data,jsonfile)\n",
    "\n",
    "# we need DICTIONAIRIES to be able to retrieve a key:value pair\n",
    "# we need STRINGS (used for APIs - JSON.DUMPS needed)\n"
   ]
  },
  {
   "cell_type": "markdown",
   "metadata": {},
   "source": [
    "# JSON.LOAD()"
   ]
  },
  {
   "cell_type": "code",
   "execution_count": 4,
   "metadata": {},
   "outputs": [],
   "source": [
    "# JSON.LOAD() - loads in a file\n",
    "# JSON.LOADS() - read/convert a string into a python dictionary (use json string to convert to python dictionary)"
   ]
  },
  {
   "cell_type": "code",
   "execution_count": 9,
   "metadata": {},
   "outputs": [
    {
     "name": "stdout",
     "output_type": "stream",
     "text": [
      "<class 'dict'>\n",
      "{'name': 'dog', 'alive': True, 'age': 5}\n",
      "<class 'str'>\n",
      "{'name': 'dog', 'alive': True, 'age': 5}\n",
      "<class 'dict'>\n"
     ]
    }
   ],
   "source": [
    "animal_data = {\"name\":\"dog\", \"alive\":True, \"age\": 5}\n",
    "animal_data_json_string = json.dumps(animal_data)\n",
    "\n",
    "with open(\"new_json_file.json\") as jsonfile:\n",
    "    animals = json.load(jsonfile)\n",
    "    print(type(animals))\n",
    "    print(animals)\n",
    "\n",
    "print(type(animal_data_json_string))\n",
    "parsed_json_data = json.loads(animal_data_json_string)\n",
    "print(parsed_json_data)\n",
    "print(type(parsed_json_data))"
   ]
  },
  {
   "cell_type": "markdown",
   "metadata": {},
   "source": [
    "# JSON.LOADS()"
   ]
  },
  {
   "cell_type": "code",
   "execution_count": 10,
   "metadata": {},
   "outputs": [
    {
     "name": "stdout",
     "output_type": "stream",
     "text": [
      "{'name': 'dog', 'alive': True, 'age': 5}\n",
      "<class 'str'>\n",
      "{'name': 'dog', 'alive': True, 'age': 5}\n",
      "<class 'dict'>\n"
     ]
    }
   ],
   "source": [
    "animal_data = {\"name\":\"dog\", \"alive\":True, \"age\": 5}\n",
    "animal_data_json_string = json.dumps(animal_data)\n",
    "\n",
    "print(animal_data)\n",
    "print(type(animal_data_json_string))\n",
    "parsed_json_data = json.loads(animal_data_json_string)\n",
    "print(parsed_json_data)\n",
    "print(type(parsed_json_data))\n",
    "\n",
    "# we need DICTIONARY to revet back from API \n"
   ]
  },
  {
   "cell_type": "markdown",
   "metadata": {},
   "source": [
    "savae it as string convert it as a python dictionary"
   ]
  }
 ],
 "metadata": {
  "kernelspec": {
   "display_name": "Python 3",
   "language": "python",
   "name": "python3"
  },
  "language_info": {
   "codemirror_mode": {
    "name": "ipython",
    "version": 3
   },
   "file_extension": ".py",
   "mimetype": "text/x-python",
   "name": "python",
   "nbconvert_exporter": "python",
   "pygments_lexer": "ipython3",
   "version": "3.12.4"
  }
 },
 "nbformat": 4,
 "nbformat_minor": 2
}
