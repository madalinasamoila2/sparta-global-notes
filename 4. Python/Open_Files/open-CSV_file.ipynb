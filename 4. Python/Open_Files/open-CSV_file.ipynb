{
 "cells": [
  {
   "cell_type": "code",
   "execution_count": 4,
   "metadata": {},
   "outputs": [],
   "source": [
    "import csv"
   ]
  },
  {
   "cell_type": "code",
   "execution_count": 5,
   "metadata": {},
   "outputs": [
    {
     "name": "stdout",
     "output_type": "stream",
     "text": [
      "Cleaned file saved.\n"
     ]
    }
   ],
   "source": [
    "def read_csv_file(file_name):\n",
    "    try:\n",
    "        with open(file_name, newline='') as csv_file:           # OPENS file for reading \n",
    "            csvreader = csv.reader(csv_file, delimiter=',')     # NEWLINE='' ensures that newlines are handled properly across different operating systems\n",
    "            return list(csvreader)                              #            prevents blank lines between rows \n",
    "    except FileNotFoundError as errmsg:                         # DELIMITER splits each row by commas, turning into a list of values\n",
    "        print(\"File not been found\")                            # Name, Item, Price becomes ['Name','Item','Price']\n",
    "        print(errmsg)\n",
    " \n",
    "#print(read_csv_file(\"customer_details.csv\"))\n",
    "def transform_rows(rows):\n",
    "    return [[row[2], row[3], row[5], row[9]] for row in rows]\n",
    " \n",
    "def write_csv_file(file_name, rows):\n",
    "    try:\n",
    "        with open(file_name, 'w', newline='') as file:\n",
    "            writer = csv.writer(file)\n",
    "            writer.writerows(rows)\n",
    "        print(\"Cleaned file saved.\")\n",
    "    except Exception as e:\n",
    "        print(\"Could not write file:\", e)\n",
    " \n",
    "# Main logic\n",
    "data = read_csv_file(\"customer_details.csv\")\n",
    "if data:\n",
    "    transformed = transform_rows(data)\n",
    "    write_csv_file(\"new_customer_details.csv\", transformed)"
   ]
  }
 ],
 "metadata": {
  "kernelspec": {
   "display_name": "Python 3",
   "language": "python",
   "name": "python3"
  },
  "language_info": {
   "codemirror_mode": {
    "name": "ipython",
    "version": 3
   },
   "file_extension": ".py",
   "mimetype": "text/x-python",
   "name": "python",
   "nbconvert_exporter": "python",
   "pygments_lexer": "ipython3",
   "version": "3.12.4"
  }
 },
 "nbformat": 4,
 "nbformat_minor": 2
}
