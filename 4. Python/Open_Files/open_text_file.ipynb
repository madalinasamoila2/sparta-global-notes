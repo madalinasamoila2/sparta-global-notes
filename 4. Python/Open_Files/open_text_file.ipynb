{
 "cells": [
  {
   "cell_type": "markdown",
   "metadata": {},
   "source": [
    "# TRY & EXCEPT"
   ]
  },
  {
   "cell_type": "markdown",
   "metadata": {},
   "source": [
    "https://docs.python.org/3/library/exceptions.html"
   ]
  },
  {
   "cell_type": "code",
   "execution_count": 24,
   "metadata": {},
   "outputs": [
    {
     "name": "stdout",
     "output_type": "stream",
     "text": [
      "ERROR // File does not exist // \n"
     ]
    }
   ],
   "source": [
    "try:\n",
    "    file = open(\"person.txt\")\n",
    "except:\n",
    "    print(\"ERROR // File does not exist // \")"
   ]
  },
  {
   "cell_type": "markdown",
   "metadata": {},
   "source": [
    "### FileNotFoundError - OPEN TEXT FILE"
   ]
  },
  {
   "cell_type": "code",
   "execution_count": 46,
   "metadata": {},
   "outputs": [
    {
     "name": "stdout",
     "output_type": "stream",
     "text": [
      "[Errno 2] No such file or directory: 'person.txt'\n"
     ]
    }
   ],
   "source": [
    "# File Handling with Error Handling - file DOES NOT EXIST\n",
    "try:                                  # starts a try block, code inside will be attempted, if an error occurs, python jumps to the except block\n",
    "    file = open(\"person.txt\")         # attempts to OPEN a file \n",
    "    file_line_list = file.readlines() # if a file OPENS successfully, this line reads all lines in the file and stores them as a list of strings\n",
    "    print(file_line_list)             # prints out the list\n",
    "    file.close()                      # CLOSES file to FREE up system resources\n",
    "except FileNotFoundError as errmsg:\n",
    "    print(errmsg)"
   ]
  },
  {
   "cell_type": "code",
   "execution_count": 55,
   "metadata": {},
   "outputs": [
    {
     "name": "stdout",
     "output_type": "stream",
     "text": [
      "['Jamie\\n', 'ammie\\n', 'Amanda']\n"
     ]
    }
   ],
   "source": [
    "# File Handling with Error Handling - file EXISTS\n",
    "try:                                  \n",
    "    file = open(\"order.txt\")          \n",
    "    file_line_list = file.readlines()\n",
    "    print(file_line_list)            \n",
    "    file.close()                      \n",
    "except FileNotFoundError as errmsg:\n",
    "    print(errmsg)"
   ]
  },
  {
   "cell_type": "markdown",
   "metadata": {},
   "source": [
    "# MODE TYPES"
   ]
  },
  {
   "cell_type": "markdown",
   "metadata": {},
   "source": [
    "#### 'r' - This is the default mode. It Opens file for reading.\n",
    "#### 'w'\t- This Mode Opens file for writing. If file does not exist, it creates a new file. If file exists it truncates the file.\n",
    "#### 'x'\t- Creates a new file. If file already exists, the operation fails.\n",
    "#### 'a'\t- Open file in append mode. If file does not exist, it creates a new file.\n",
    "#### 't'\t- This is the default mode. It opens in text mode.\n",
    "#### 'b'\t- This opens in binary mode.\n"
   ]
  },
  {
   "cell_type": "markdown",
   "metadata": {},
   "source": [
    "### FileNotFoundError - READ TEXT FILE"
   ]
  },
  {
   "cell_type": "code",
   "execution_count": 64,
   "metadata": {},
   "outputs": [
    {
     "name": "stdout",
     "output_type": "stream",
     "text": [
      "['Jamie\\n', 'Alex\\n', 'Mauy\\n']\n"
     ]
    }
   ],
   "source": [
    "def read_file(file_name):                       # Define a function read_file, that takes one argument (file)\n",
    "    try:\n",
    "        file = open(file_name)                  # OPEN uses OPEN MODE (\"r\") ALREADY\n",
    "        file_line_list = file.readlines()\n",
    "        file.close()\n",
    "        return file_line_list                   # RETURN sends the data back to the caller, allowing function to be reused\n",
    "    except FileNotFoundError as errmsg:         # NOT PRINT - just shows something on the screen, doesn't give you access to the data later (you can only see the output once, and can't store to manipulate later)\n",
    "        print(\"File cannot be found\")\n",
    "        print(errmsg)\n",
    "        \n",
    "print(read_file(\"order.txt\"))\n"
   ]
  },
  {
   "cell_type": "markdown",
   "metadata": {},
   "source": [
    "### FileNotFoundError - READ TEXT FILE WITH OPEN"
   ]
  },
  {
   "cell_type": "code",
   "execution_count": 65,
   "metadata": {},
   "outputs": [
    {
     "name": "stdout",
     "output_type": "stream",
     "text": [
      "['Jamie\\n', 'Alex\\n', 'Mauy\\n']\n"
     ]
    }
   ],
   "source": [
    "def read_file(file_name):\n",
    "    try:\n",
    "        with open(file_name) as file:              # WITH OPENS AUTOMATICALLY CLOSES THE FILE after the block finishes, even if error occurs\n",
    "            file_line_list = file.readlines()      # RETURNS A LIST OF STRINGS each one representing a line in the file\n",
    "        return file_line_list                      # Apple, Bananas, Oranges becomes ['Apple\\n','Banana\\n','Oranges']\n",
    "    except FileNotFoundError as errmsg:\n",
    "        print(\"File cannot be found\")\n",
    "        print(errmsg)\n",
    "        \n",
    "print(read_file(\"order.txt\"))\n"
   ]
  },
  {
   "cell_type": "markdown",
   "metadata": {},
   "source": [
    "### FileNotFoundError - OVERWRITE TEXT FILE WITH OPEN"
   ]
  },
  {
   "cell_type": "code",
   "execution_count": 66,
   "metadata": {},
   "outputs": [
    {
     "name": "stdout",
     "output_type": "stream",
     "text": [
      "['Jamie\\n', 'Alex\\n', 'Mauy\\n']\n"
     ]
    }
   ],
   "source": [
    "def write_to_file(file_name, order_items):       # defines function with 2 arguments,file-name&order_item(what you want to write to the file)\n",
    "    try:\n",
    "        with open(file_name, \"w\") as file:      # tries to open file in WRITE MODE (\"w\"), which overwrites existing content in the file \n",
    "            for item in order_items:\n",
    "                file.write(item + '\\n')       # writes the order_item to the file and adds a new line\\n so it ends up on its own line\n",
    "    except FileNotFoundError as errmsg:\n",
    "        print(\"File cannot be found\")\n",
    "        print(errmsg)\n",
    "        \n",
    "\n",
    "write_to_file(\"order.txt\",['Jamie','Alex','Mauy'])\n",
    "print(read_file(\"order.txt\"))\n"
   ]
  },
  {
   "cell_type": "markdown",
   "metadata": {},
   "source": [
    "### FileNotFoundError - APPEND TEXT FILE WITH OPEN"
   ]
  },
  {
   "cell_type": "code",
   "execution_count": 68,
   "metadata": {},
   "outputs": [
    {
     "name": "stdout",
     "output_type": "stream",
     "text": [
      "['Jamie\\n', 'Alex\\n', 'Mauy\\n', 'Cemil\\n', 'Adrian\\n', 'Mala\\n', 'Cemil\\n', 'Adrian\\n', 'Mala\\n']\n"
     ]
    }
   ],
   "source": [
    "def append_file(file_name, order_items):       # defines function with 2 arguments,file-name&order_item(what you want to write to the file)\n",
    "    try:\n",
    "        with open(file_name, \"a\") as file:     # tries to open file in WRITE MODE (\"w\"), which overwrites existing content in the file \n",
    "            for item in order_items:\n",
    "                file.write(item + '\\n')        # writes the order_item to the file and adds a new line\\n so it ends up on its own line\n",
    "    except FileNotFoundError as errmsg:\n",
    "        print(\"File cannot be found\")\n",
    "        print(errmsg)\n",
    "        \n",
    "\n",
    "write_to_file(\"order.txt\",['Cemil','Adrian','Mala'])\n",
    "print(read_file(\"order.txt\"))\n"
   ]
  }
 ],
 "metadata": {
  "kernelspec": {
   "display_name": "Python 3",
   "language": "python",
   "name": "python3"
  },
  "language_info": {
   "codemirror_mode": {
    "name": "ipython",
    "version": 3
   },
   "file_extension": ".py",
   "mimetype": "text/x-python",
   "name": "python",
   "nbconvert_exporter": "python",
   "pygments_lexer": "ipython3",
   "version": "3.12.4"
  }
 },
 "nbformat": 4,
 "nbformat_minor": 2
}
