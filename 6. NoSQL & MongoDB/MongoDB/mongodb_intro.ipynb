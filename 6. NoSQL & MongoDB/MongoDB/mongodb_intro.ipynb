{
 "cells": [
  {
   "cell_type": "code",
   "execution_count": 2,
   "id": "34346f22",
   "metadata": {},
   "outputs": [],
   "source": [
    "import pymongo\n",
    "import pandas as pd\n",
    "client = pymongo.MongoClient() # CLASS from pymongo, hosts the database connection for us\n",
    "# empty () because it automatically used mongodb://localhost:27017 for us\n",
    "db = client['starwars']"
   ]
  },
  {
   "cell_type": "code",
   "execution_count": 3,
   "id": "b131c07a",
   "metadata": {},
   "outputs": [
    {
     "name": "stdout",
     "output_type": "stream",
     "text": [
      "Database(MongoClient(host=['localhost:27017'], document_class=dict, tz_aware=False, connect=True), 'starwars')\n",
      "<pymongo.synchronous.cursor.Cursor object at 0x120cdbda0>\n",
      "{'_id': ObjectId('682db95c54f0d5c0ab4a5fed'), 'name': 'Luke Skywalker', 'height': 172, 'mass': 77.0, 'hair_color': 'blond', 'skin_color': 'fair', 'eye_color': 'blue', 'birth_year': '19BBY', 'gender': 'male', 'homeworld': {'name': 'Tatooine', 'rotation_period': '23', 'orbital_period': '304', 'diameter': '10465', 'climate': 'arid', 'gravity': '1 standard', 'terrain': 'desert', 'surface_water': '1', 'population': '200000'}, 'films': [{'title': 'The Empire Strikes Back', 'episode_id': 5, 'opening_crawl': 'It is a dark time for the\\r\\nRebellion. Although the Death\\r\\nStar has been destroyed,\\r\\nImperial troops have driven the\\r\\nRebel forces from their hidden\\r\\nbase and pursued them across\\r\\nthe galaxy.\\r\\n\\r\\nEvading the dreaded Imperial\\r\\nStarfleet, a group of freedom\\r\\nfighters led by Luke Skywalker\\r\\nhas established a new secret\\r\\nbase on the remote ice world\\r\\nof Hoth.\\r\\n\\r\\nThe evil lord Darth Vader,\\r\\nobsessed with finding young\\r\\nSkywalker, has dispatched\\r\\nthousands of remote probes into\\r\\nthe far reaches of space....', 'director': 'Irvin Kershner', 'producer': 'Gary Kurtz, Rick McCallum', 'release_date': '1980-05-17'}, {'title': 'Revenge of the Sith', 'episode_id': 3, 'opening_crawl': 'War! The Republic is crumbling\\r\\nunder attacks by the ruthless\\r\\nSith Lord, Count Dooku.\\r\\nThere are heroes on both sides.\\r\\nEvil is everywhere.\\r\\n\\r\\nIn a stunning move, the\\r\\nfiendish droid leader, General\\r\\nGrievous, has swept into the\\r\\nRepublic capital and kidnapped\\r\\nChancellor Palpatine, leader of\\r\\nthe Galactic Senate.\\r\\n\\r\\nAs the Separatist Droid Army\\r\\nattempts to flee the besieged\\r\\ncapital with their valuable\\r\\nhostage, two Jedi Knights lead a\\r\\ndesperate mission to rescue the\\r\\ncaptive Chancellor....', 'director': 'George Lucas', 'producer': 'Rick McCallum', 'release_date': '2005-05-19'}, {'title': 'Return of the Jedi', 'episode_id': 6, 'opening_crawl': 'Luke Skywalker has returned to\\r\\nhis home planet of Tatooine in\\r\\nan attempt to rescue his\\r\\nfriend Han Solo from the\\r\\nclutches of the vile gangster\\r\\nJabba the Hutt.\\r\\n\\r\\nLittle does Luke know that the\\r\\nGALACTIC EMPIRE has secretly\\r\\nbegun construction on a new\\r\\narmored space station even\\r\\nmore powerful than the first\\r\\ndreaded Death Star.\\r\\n\\r\\nWhen completed, this ultimate\\r\\nweapon will spell certain doom\\r\\nfor the small band of rebels\\r\\nstruggling to restore freedom\\r\\nto the galaxy...', 'director': 'Richard Marquand', 'producer': 'Howard G. Kazanjian, George Lucas, Rick McCallum', 'release_date': '1983-05-25'}, {'title': 'A New Hope', 'episode_id': 4, 'opening_crawl': \"It is a period of civil war.\\r\\nRebel spaceships, striking\\r\\nfrom a hidden base, have won\\r\\ntheir first victory against\\r\\nthe evil Galactic Empire.\\r\\n\\r\\nDuring the battle, Rebel\\r\\nspies managed to steal secret\\r\\nplans to the Empire's\\r\\nultimate weapon, the DEATH\\r\\nSTAR, an armored space\\r\\nstation with enough power\\r\\nto destroy an entire planet.\\r\\n\\r\\nPursued by the Empire's\\r\\nsinister agents, Princess\\r\\nLeia races home aboard her\\r\\nstarship, custodian of the\\r\\nstolen plans that can save her\\r\\npeople and restore\\r\\nfreedom to the galaxy....\", 'director': 'George Lucas', 'producer': 'Gary Kurtz, Rick McCallum', 'release_date': '1977-05-25'}, {'title': 'The Force Awakens', 'episode_id': 7, 'opening_crawl': \"Luke Skywalker has vanished.\\r\\nIn his absence, the sinister\\r\\nFIRST ORDER has risen from\\r\\nthe ashes of the Empire\\r\\nand will not rest until\\r\\nSkywalker, the last Jedi,\\r\\nhas been destroyed.\\r\\n \\r\\nWith the support of the\\r\\nREPUBLIC, General Leia Organa\\r\\nleads a brave RESISTANCE.\\r\\nShe is desperate to find her\\r\\nbrother Luke and gain his\\r\\nhelp in restoring peace and\\r\\njustice to the galaxy.\\r\\n \\r\\nLeia has sent her most daring\\r\\npilot on a secret mission\\r\\nto Jakku, where an old ally\\r\\nhas discovered a clue to\\r\\nLuke's whereabouts....\", 'director': 'J. J. Abrams', 'producer': 'Kathleen Kennedy, J. J. Abrams, Bryan Burk', 'release_date': '2015-12-11'}], 'species': {'name': 'Human', 'classification': 'mammal', 'designation': 'sentient', 'average_height': '180', 'skin_colors': 'caucasian, black, asian, hispanic', 'hair_colors': 'blonde, brown, black, red', 'eye_colors': 'brown, blue, green, hazel, grey, amber', 'average_lifespan': '120', 'language': 'Galactic Basic'}}\n"
     ]
    }
   ],
   "source": [
    "print(db)\n",
    "\n",
    "# FIND() doesn't work, you need to specify what goes in the brackets\n",
    "character_all = db.characters.find({\"name\": \"Luke Skywalker\"})\n",
    "# FIND_ONE()\n",
    "character_one = db.characters.find_one({\"name\": \"Luke Skywalker\"})\n",
    "\n",
    "print(character_all)\n",
    "print(character_one)"
   ]
  },
  {
   "cell_type": "code",
   "execution_count": 4,
   "id": "94f71e0e",
   "metadata": {},
   "outputs": [
    {
     "name": "stdout",
     "output_type": "stream",
     "text": [
      "['full_characters', 'characters']\n",
      "The full_characters collection exists\n"
     ]
    }
   ],
   "source": [
    "# LIST ALL CONNECTIONS\n",
    "print(db.list_collection_names())\n",
    "list = db.list_collection_names()\n",
    "if \"full_characters\" in list:\n",
    "    print(f\"The full_characters collection exists\")\n",
    "\n",
    "full_characters = db['full_characters']"
   ]
  },
  {
   "cell_type": "code",
   "execution_count": 5,
   "id": "01f6a412",
   "metadata": {},
   "outputs": [
    {
     "name": "stdout",
     "output_type": "stream",
     "text": [
      "{'name': 'C-3PO', 'species': {'name': 'Droid'}}\n",
      "{'name': 'IG-88', 'species': {'name': 'Droid'}}\n",
      "{'name': 'R2-D2', 'species': {'name': 'Droid'}}\n",
      "{'name': 'R5-D4', 'species': {'name': 'Droid'}}\n"
     ]
    }
   ],
   "source": [
    "# Exercise: Print the names of all the droids in the collection\n",
    "droids = db.full_characters.find({\"species.name\": \"Droid\"},{'_id':0,'name':1,'species.name':1})\n",
    "\n",
    "for document in droids:\n",
    "    print(document)"
   ]
  },
  {
   "cell_type": "markdown",
   "id": "3797d08c",
   "metadata": {},
   "source": [
    "Exercise 1: \n",
    "Find the average mass and count per species. Filter out null values and sort by average mass ascending.\n"
   ]
  },
  {
   "cell_type": "code",
   "execution_count": 6,
   "id": "f351771b",
   "metadata": {},
   "outputs": [
    {
     "name": "stdout",
     "output_type": "stream",
     "text": [
      "{'_id': 'Aleena', 'avgMass': 15.0, 'count': 1}\n",
      "{'_id': \"Yoda's species\", 'avgMass': 17.0, 'count': 1}\n",
      "{'_id': 'Ewok', 'avgMass': 20.0, 'count': 1}\n",
      "{'_id': 'Dug', 'avgMass': 40.0, 'count': 1}\n",
      "{'_id': 'Vulptereen', 'avgMass': 45.0, 'count': 1}\n",
      "{'_id': [], 'avgMass': 48.0, 'count': 1}\n",
      "{'_id': 'Skakoan', 'avgMass': 48.0, 'count': 1}\n",
      "{'_id': 'Tholothian', 'avgMass': 50.0, 'count': 1}\n",
      "{'_id': 'Mirialan', 'avgMass': 53.1, 'count': 2}\n",
      "{'_id': \"Twi'lek\", 'avgMass': 55.0, 'count': 1}\n",
      "{'_id': 'Clawdite', 'avgMass': 55.0, 'count': 1}\n",
      "{'_id': 'Togruta', 'avgMass': 57.0, 'count': 1}\n",
      "{'_id': 'Toong', 'avgMass': 65.0, 'count': 1}\n",
      "{'_id': 'Sullustan', 'avgMass': 68.0, 'count': 1}\n",
      "{'_id': 'Droid', 'avgMass': 69.75, 'count': 4}\n",
      "{'_id': 'Rodian', 'avgMass': 74.0, 'count': 1}\n",
      "{'_id': 'Gungan', 'avgMass': 74.0, 'count': 2}\n",
      "{'_id': 'Kel Dor', 'avgMass': 80.0, 'count': 1}\n",
      "{'_id': 'Geonosian', 'avgMass': 80.0, 'count': 1}\n",
      "{'_id': \"Pau'an\", 'avgMass': 80.0, 'count': 1}\n",
      "{'_id': 'Zabrak', 'avgMass': 80.0, 'count': 1}\n",
      "{'_id': 'Cerean', 'avgMass': 82.0, 'count': 1}\n",
      "{'_id': 'Human', 'avgMass': 82.78181818181818, 'count': 22}\n",
      "{'_id': 'Mon Calamari', 'avgMass': 83.0, 'count': 1}\n",
      "{'_id': 'Nautolan', 'avgMass': 87.0, 'count': 1}\n",
      "{'_id': 'Kaminoan', 'avgMass': 88.0, 'count': 1}\n",
      "{'_id': 'Neimodian', 'avgMass': 90.0, 'count': 1}\n",
      "{'_id': 'Besalisk', 'avgMass': 102.0, 'count': 1}\n",
      "{'_id': 'Trandoshan', 'avgMass': 113.0, 'count': 1}\n",
      "{'_id': 'Wookiee', 'avgMass': 124.0, 'count': 2}\n",
      "{'_id': 'Kaleesh', 'avgMass': 159.0, 'count': 1}\n",
      "{'_id': 'Hutt', 'avgMass': 1358.0, 'count': 1}\n"
     ]
    }
   ],
   "source": [
    "species_avg_mass_count = db.full_characters.aggregate([\n",
    "        {\"$match\":{'species.name': {'$ne': None},\n",
    "                   'mass':{'$ne':None}}},\n",
    "        {\"$group\":{\"_id\":\"$species.name\",\n",
    "               \"avgMass\": {\"$avg\":\"$mass\"}, \n",
    "               \"count\": {\"$sum\":1}}},\n",
    "    {\"$sort\":{\"avgMass\":1}}\n",
    "               ])\n",
    "\n",
    "for document in species_avg_mass_count:\n",
    "    print(document)"
   ]
  },
  {
   "cell_type": "markdown",
   "id": "9f88c69b",
   "metadata": {},
   "source": [
    "\n",
    "Exercise 2: \n",
    "Find the height of Darth Vader, only return results for the name and the height.\n"
   ]
  },
  {
   "cell_type": "code",
   "execution_count": 7,
   "id": "01a50701",
   "metadata": {},
   "outputs": [
    {
     "name": "stdout",
     "output_type": "stream",
     "text": [
      "{'name': 'Darth Vader', 'height': 202}\n"
     ]
    }
   ],
   "source": [
    "darth_vader_height = db.full_characters.find(\n",
    "    {\"name\":\"Darth Vader\"},\n",
    "    {\"name\":1,\"height\":1,\"_id\":0})\n",
    "\n",
    "for document in darth_vader_height:\n",
    "    print(document)"
   ]
  },
  {
   "cell_type": "markdown",
   "id": "6b584907",
   "metadata": {},
   "source": [
    "Exercise 3: Find all characters with yellow eyes, only return results for the names of the characters.\n"
   ]
  },
  {
   "cell_type": "code",
   "execution_count": 8,
   "id": "ee5297c7",
   "metadata": {},
   "outputs": [
    {
     "name": "stdout",
     "output_type": "stream",
     "text": [
      "{'name': 'Darth Maul'}\n",
      "{'name': 'Dexter Jettster'}\n",
      "{'name': 'Dud Bolt'}\n",
      "{'name': 'Ki-Adi-Mundi'}\n",
      "{'name': 'C-3PO'}\n",
      "{'name': 'Palpatine'}\n",
      "{'name': 'Poggle the Lesser'}\n",
      "{'name': 'Zam Wesell'}\n",
      "{'name': 'Darth Vader'}\n"
     ]
    }
   ],
   "source": [
    "yellow_eyes = db.full_characters.find(\n",
    "    {\"eye_color\":\"yellow\"},\n",
    "    {\"name\":1,\"_id\":0})\n",
    "\n",
    "for document in yellow_eyes:\n",
    "    print(document)"
   ]
  },
  {
   "cell_type": "markdown",
   "id": "67a799ea",
   "metadata": {},
   "source": [
    "Exercise 4: Find male characters. Limit your results to only show the first 3."
   ]
  },
  {
   "cell_type": "code",
   "execution_count": 9,
   "id": "81a76200",
   "metadata": {},
   "outputs": [
    {
     "name": "stdout",
     "output_type": "stream",
     "text": [
      "{'_id': ObjectId('682dc98454f0d5c0ab4a5ff6'), 'name': 'Ackbar', 'height': 180, 'mass': 83.0, 'hair_color': 'none', 'skin_color': 'brown mottle', 'eye_color': 'orange', 'birth_year': '41BBY', 'gender': 'male', 'homeworld': {'name': 'Mon Cala', 'rotation_period': '21', 'orbital_period': '398', 'diameter': '11030', 'climate': 'temperate', 'gravity': '1', 'terrain': 'oceans, reefs, islands', 'surface_water': '100', 'population': '27000000000'}, 'films': [{'title': 'Return of the Jedi', 'episode_id': 6, 'opening_crawl': 'Luke Skywalker has returned to\\r\\nhis home planet of Tatooine in\\r\\nan attempt to rescue his\\r\\nfriend Han Solo from the\\r\\nclutches of the vile gangster\\r\\nJabba the Hutt.\\r\\n\\r\\nLittle does Luke know that the\\r\\nGALACTIC EMPIRE has secretly\\r\\nbegun construction on a new\\r\\narmored space station even\\r\\nmore powerful than the first\\r\\ndreaded Death Star.\\r\\n\\r\\nWhen completed, this ultimate\\r\\nweapon will spell certain doom\\r\\nfor the small band of rebels\\r\\nstruggling to restore freedom\\r\\nto the galaxy...', 'director': 'Richard Marquand', 'producer': 'Howard G. Kazanjian, George Lucas, Rick McCallum', 'release_date': '1983-05-25'}, {'title': 'The Force Awakens', 'episode_id': 7, 'opening_crawl': \"Luke Skywalker has vanished.\\r\\nIn his absence, the sinister\\r\\nFIRST ORDER has risen from\\r\\nthe ashes of the Empire\\r\\nand will not rest until\\r\\nSkywalker, the last Jedi,\\r\\nhas been destroyed.\\r\\n \\r\\nWith the support of the\\r\\nREPUBLIC, General Leia Organa\\r\\nleads a brave RESISTANCE.\\r\\nShe is desperate to find her\\r\\nbrother Luke and gain his\\r\\nhelp in restoring peace and\\r\\njustice to the galaxy.\\r\\n \\r\\nLeia has sent her most daring\\r\\npilot on a secret mission\\r\\nto Jakku, where an old ally\\r\\nhas discovered a clue to\\r\\nLuke's whereabouts....\", 'director': 'J. J. Abrams', 'producer': 'Kathleen Kennedy, J. J. Abrams, Bryan Burk', 'release_date': '2015-12-11'}], 'species': {'name': 'Mon Calamari', 'classification': 'amphibian', 'designation': 'sentient', 'average_height': '160', 'skin_colors': 'red, blue, brown, magenta', 'hair_colors': 'none', 'eye_colors': 'yellow', 'average_lifespan': 'unknown', 'language': 'Mon Calamarian'}}\n",
      "{'_id': ObjectId('682dc98454f0d5c0ab4a5ff8'), 'name': 'Jango Fett', 'height': 183, 'mass': 79.0, 'hair_color': 'black', 'skin_color': 'tan', 'eye_color': 'brown', 'birth_year': '66BBY', 'gender': 'male', 'homeworld': {'name': 'Concord Dawn', 'rotation_period': 'unknown', 'orbital_period': 'unknown', 'diameter': 'unknown', 'climate': 'unknown', 'gravity': 'unknown', 'terrain': 'jungles, forests, deserts', 'surface_water': 'unknown', 'population': 'unknown'}, 'films': [{'title': 'Attack of the Clones', 'episode_id': 2, 'opening_crawl': 'There is unrest in the Galactic\\r\\nSenate. Several thousand solar\\r\\nsystems have declared their\\r\\nintentions to leave the Republic.\\r\\n\\r\\nThis separatist movement,\\r\\nunder the leadership of the\\r\\nmysterious Count Dooku, has\\r\\nmade it difficult for the limited\\r\\nnumber of Jedi Knights to maintain \\r\\npeace and order in the galaxy.\\r\\n\\r\\nSenator Amidala, the former\\r\\nQueen of Naboo, is returning\\r\\nto the Galactic Senate to vote\\r\\non the critical issue of creating\\r\\nan ARMY OF THE REPUBLIC\\r\\nto assist the overwhelmed\\r\\nJedi....', 'director': 'George Lucas', 'producer': 'Rick McCallum', 'release_date': '2002-05-16'}], 'species': {'name': 'Human', 'classification': 'mammal', 'designation': 'sentient', 'average_height': '180', 'skin_colors': 'caucasian, black, asian, hispanic', 'hair_colors': 'blonde, brown, black, red', 'eye_colors': 'brown, blue, green, hazel, grey, amber', 'average_lifespan': '120', 'language': 'Galactic Basic'}}\n",
      "{'_id': ObjectId('682dc98454f0d5c0ab4a5ff9'), 'name': 'Kit Fisto', 'height': 196, 'mass': 87.0, 'hair_color': 'none', 'skin_color': 'green', 'eye_color': 'black', 'birth_year': 'unknown', 'gender': 'male', 'homeworld': {'name': 'Glee Anselm', 'rotation_period': '33', 'orbital_period': '206', 'diameter': '15600', 'climate': 'tropical, temperate', 'gravity': '1', 'terrain': 'lakes, islands, swamps, seas', 'surface_water': '80', 'population': '500000000'}, 'films': [{'title': 'Attack of the Clones', 'episode_id': 2, 'opening_crawl': 'There is unrest in the Galactic\\r\\nSenate. Several thousand solar\\r\\nsystems have declared their\\r\\nintentions to leave the Republic.\\r\\n\\r\\nThis separatist movement,\\r\\nunder the leadership of the\\r\\nmysterious Count Dooku, has\\r\\nmade it difficult for the limited\\r\\nnumber of Jedi Knights to maintain \\r\\npeace and order in the galaxy.\\r\\n\\r\\nSenator Amidala, the former\\r\\nQueen of Naboo, is returning\\r\\nto the Galactic Senate to vote\\r\\non the critical issue of creating\\r\\nan ARMY OF THE REPUBLIC\\r\\nto assist the overwhelmed\\r\\nJedi....', 'director': 'George Lucas', 'producer': 'Rick McCallum', 'release_date': '2002-05-16'}, {'title': 'The Phantom Menace', 'episode_id': 1, 'opening_crawl': 'Turmoil has engulfed the\\r\\nGalactic Republic. The taxation\\r\\nof trade routes to outlying star\\r\\nsystems is in dispute.\\r\\n\\r\\nHoping to resolve the matter\\r\\nwith a blockade of deadly\\r\\nbattleships, the greedy Trade\\r\\nFederation has stopped all\\r\\nshipping to the small planet\\r\\nof Naboo.\\r\\n\\r\\nWhile the Congress of the\\r\\nRepublic endlessly debates\\r\\nthis alarming chain of events,\\r\\nthe Supreme Chancellor has\\r\\nsecretly dispatched two Jedi\\r\\nKnights, the guardians of\\r\\npeace and justice in the\\r\\ngalaxy, to settle the conflict....', 'director': 'George Lucas', 'producer': 'Rick McCallum', 'release_date': '1999-05-19'}, {'title': 'Revenge of the Sith', 'episode_id': 3, 'opening_crawl': 'War! The Republic is crumbling\\r\\nunder attacks by the ruthless\\r\\nSith Lord, Count Dooku.\\r\\nThere are heroes on both sides.\\r\\nEvil is everywhere.\\r\\n\\r\\nIn a stunning move, the\\r\\nfiendish droid leader, General\\r\\nGrievous, has swept into the\\r\\nRepublic capital and kidnapped\\r\\nChancellor Palpatine, leader of\\r\\nthe Galactic Senate.\\r\\n\\r\\nAs the Separatist Droid Army\\r\\nattempts to flee the besieged\\r\\ncapital with their valuable\\r\\nhostage, two Jedi Knights lead a\\r\\ndesperate mission to rescue the\\r\\ncaptive Chancellor....', 'director': 'George Lucas', 'producer': 'Rick McCallum', 'release_date': '2005-05-19'}], 'species': {'name': 'Nautolan', 'classification': 'amphibian', 'designation': 'sentient', 'average_height': '180', 'skin_colors': 'green, blue, brown, red', 'hair_colors': 'none', 'eye_colors': 'black', 'average_lifespan': '70', 'language': 'Nautila'}}\n"
     ]
    }
   ],
   "source": [
    "male_characters = db.full_characters.find(\n",
    "    {\"gender\":\"male\"}).limit(3)\n",
    "\n",
    "for document in male_characters:\n",
    "    print(document)"
   ]
  },
  {
   "cell_type": "markdown",
   "id": "eaf44690",
   "metadata": {},
   "source": [
    "Exercise 5: Find the names of all the humans whose homeworld is Alderaan."
   ]
  },
  {
   "cell_type": "code",
   "execution_count": 10,
   "id": "0739d9b7",
   "metadata": {},
   "outputs": [
    {
     "name": "stdout",
     "output_type": "stream",
     "text": [
      "{'name': 'Raymus Antilles'}\n",
      "{'name': 'Leia Organa'}\n"
     ]
    }
   ],
   "source": [
    "alderaan_humans = db.full_characters.find(\n",
    "    {\"homeworld.name\":\"Alderaan\"},{\"name\":1,\"_id\":0})\n",
    "\n",
    "for document in alderaan_humans:\n",
    "    print(document)"
   ]
  },
  {
   "cell_type": "markdown",
   "id": "8507794f",
   "metadata": {},
   "source": [
    "Exercise 6: \n",
    "What is the average height of female characters?\n"
   ]
  },
  {
   "cell_type": "code",
   "execution_count": 11,
   "id": "e964bb61",
   "metadata": {},
   "outputs": [
    {
     "name": "stdout",
     "output_type": "stream",
     "text": [
      "{'_id': 'female', 'avgHeight': 170.2}\n"
     ]
    }
   ],
   "source": [
    "female_avg_height = db.full_characters.aggregate([\n",
    "    {\"$match\":{\"gender\":\"female\"}},\n",
    "    {\"$group\":{\"_id\":\"$gender\",\n",
    "            \"avgHeight\": {\"$avg\":\"$height\"}}}])\n",
    "\n",
    "for document in female_avg_height:\n",
    "    print(document)"
   ]
  },
  {
   "cell_type": "markdown",
   "id": "d65c2fc4",
   "metadata": {},
   "source": [
    "Exercise 7: Which character is the tallest?\n"
   ]
  },
  {
   "cell_type": "code",
   "execution_count": 12,
   "id": "4fb04aa9",
   "metadata": {},
   "outputs": [
    {
     "name": "stdout",
     "output_type": "stream",
     "text": [
      "{'_id': ObjectId('682dc98454f0d5c0ab4a600a'), 'name': 'Tarfful', 'height': 234}\n"
     ]
    }
   ],
   "source": [
    "tallest_character = db.full_characters.find({},{\"name\":1,\"height\":1}).sort({\"height\": -1}).limit(1)\n",
    "\n",
    "for document in tallest_character:\n",
    "    print(document)"
   ]
  },
  {
   "cell_type": "markdown",
   "id": "7ef0abdf",
   "metadata": {},
   "source": [
    "## Practice"
   ]
  },
  {
   "cell_type": "markdown",
   "id": "555b4d13",
   "metadata": {},
   "source": [
    "Create a function that will take in a character name and output their object id"
   ]
  },
  {
   "cell_type": "code",
   "execution_count": 17,
   "id": "48e5b86d",
   "metadata": {},
   "outputs": [
    {
     "data": {
      "text/plain": [
       "{'_id': ObjectId('682dc98454f0d5c0ab4a6044')}"
      ]
     },
     "execution_count": 17,
     "metadata": {},
     "output_type": "execute_result"
    }
   ],
   "source": [
    "# RETURN OBJECT ID\n",
    "def object_id(character_name):\n",
    "    result = db.full_characters.find({\"name\":character_name},{\"_id\":1})\n",
    "    \n",
    "    for x in result:\n",
    "        return x\n",
    "        \n",
    "    return f\"Character {character_name} not found\"\n",
    "\n",
    "object_id(\"Darth Vader\")"
   ]
  },
  {
   "cell_type": "code",
   "execution_count": 18,
   "id": "3fd37e49",
   "metadata": {},
   "outputs": [
    {
     "name": "stdout",
     "output_type": "stream",
     "text": [
      "{'_id': ObjectId('682dc98454f0d5c0ab4a5ffa'), 'height': 188, 'mass': 80.0, 'hair_color': 'none', 'skin_color': 'orange', 'eye_color': 'black', 'birth_year': '22BBY', 'gender': 'male', 'homeworld': {'name': 'Dorin', 'rotation_period': '22', 'orbital_period': '409', 'diameter': '13400', 'climate': 'temperate', 'gravity': '1', 'terrain': 'unknown', 'surface_water': 'unknown', 'population': 'unknown'}, 'films': [{'title': 'Attack of the Clones', 'episode_id': 2, 'opening_crawl': 'There is unrest in the Galactic\\r\\nSenate. Several thousand solar\\r\\nsystems have declared their\\r\\nintentions to leave the Republic.\\r\\n\\r\\nThis separatist movement,\\r\\nunder the leadership of the\\r\\nmysterious Count Dooku, has\\r\\nmade it difficult for the limited\\r\\nnumber of Jedi Knights to maintain \\r\\npeace and order in the galaxy.\\r\\n\\r\\nSenator Amidala, the former\\r\\nQueen of Naboo, is returning\\r\\nto the Galactic Senate to vote\\r\\non the critical issue of creating\\r\\nan ARMY OF THE REPUBLIC\\r\\nto assist the overwhelmed\\r\\nJedi....', 'director': 'George Lucas', 'producer': 'Rick McCallum', 'release_date': '2002-05-16'}, {'title': 'The Phantom Menace', 'episode_id': 1, 'opening_crawl': 'Turmoil has engulfed the\\r\\nGalactic Republic. The taxation\\r\\nof trade routes to outlying star\\r\\nsystems is in dispute.\\r\\n\\r\\nHoping to resolve the matter\\r\\nwith a blockade of deadly\\r\\nbattleships, the greedy Trade\\r\\nFederation has stopped all\\r\\nshipping to the small planet\\r\\nof Naboo.\\r\\n\\r\\nWhile the Congress of the\\r\\nRepublic endlessly debates\\r\\nthis alarming chain of events,\\r\\nthe Supreme Chancellor has\\r\\nsecretly dispatched two Jedi\\r\\nKnights, the guardians of\\r\\npeace and justice in the\\r\\ngalaxy, to settle the conflict....', 'director': 'George Lucas', 'producer': 'Rick McCallum', 'release_date': '1999-05-19'}, {'title': 'Revenge of the Sith', 'episode_id': 3, 'opening_crawl': 'War! The Republic is crumbling\\r\\nunder attacks by the ruthless\\r\\nSith Lord, Count Dooku.\\r\\nThere are heroes on both sides.\\r\\nEvil is everywhere.\\r\\n\\r\\nIn a stunning move, the\\r\\nfiendish droid leader, General\\r\\nGrievous, has swept into the\\r\\nRepublic capital and kidnapped\\r\\nChancellor Palpatine, leader of\\r\\nthe Galactic Senate.\\r\\n\\r\\nAs the Separatist Droid Army\\r\\nattempts to flee the besieged\\r\\ncapital with their valuable\\r\\nhostage, two Jedi Knights lead a\\r\\ndesperate mission to rescue the\\r\\ncaptive Chancellor....', 'director': 'George Lucas', 'producer': 'Rick McCallum', 'release_date': '2005-05-19'}], 'species': {'name': 'Kel Dor', 'classification': 'unknown', 'designation': 'sentient', 'average_height': '180', 'skin_colors': 'peach, orange, red', 'hair_colors': 'none', 'eye_colors': 'black, silver', 'average_lifespan': '70', 'language': 'Kel Dor'}}\n"
     ]
    }
   ],
   "source": [
    "character_name = db.full_characters.find({\"name\":\"Plo Koon\"},{\"name\":0,\"_id\":1})\n",
    "\n",
    "for x in character_name:\n",
    "    print(x)"
   ]
  }
 ],
 "metadata": {
  "kernelspec": {
   "display_name": "Python 3",
   "language": "python",
   "name": "python3"
  },
  "language_info": {
   "codemirror_mode": {
    "name": "ipython",
    "version": 3
   },
   "file_extension": ".py",
   "mimetype": "text/x-python",
   "name": "python",
   "nbconvert_exporter": "python",
   "pygments_lexer": "ipython3",
   "version": "3.12.4"
  }
 },
 "nbformat": 4,
 "nbformat_minor": 5
}
