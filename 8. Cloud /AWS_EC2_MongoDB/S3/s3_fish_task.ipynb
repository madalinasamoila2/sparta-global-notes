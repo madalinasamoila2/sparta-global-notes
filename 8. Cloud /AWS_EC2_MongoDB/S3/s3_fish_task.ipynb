{
 "cells": [
  {
   "cell_type": "code",
   "execution_count": 147,
   "id": "8cad8341",
   "metadata": {},
   "outputs": [],
   "source": [
    "import boto3\n",
    "import pprint as pp\n",
    "import json\n",
    "import pandas as pd\n",
    "import io\n",
    "\n",
    "# Let's use Amazon S3\n",
    "s3_resource = boto3.resource('s3')\n",
    "s3_client = boto3.client('s3')\n",
    "\n",
    "bucket_name = 'data-eng-resources'"
   ]
  },
  {
   "cell_type": "code",
   "execution_count": 148,
   "id": "29b1c0c8",
   "metadata": {},
   "outputs": [
    {
     "name": "stdout",
     "output_type": "stream",
     "text": [
      "{'ResponseMetadata': {'RequestId': 'FKPBPH35512WKM49',\n",
      "                      'HostId': 'OWX5bAsxcltIhQJn/jnuRrebzf+/PlvwgbFbJviHNgnRyqi736ZKSc2Ov8wquqOq+/w8bs4JhFM=',\n",
      "                      'HTTPStatusCode': 200,\n",
      "                      'HTTPHeaders': {'x-amz-id-2': 'OWX5bAsxcltIhQJn/jnuRrebzf+/PlvwgbFbJviHNgnRyqi736ZKSc2Ov8wquqOq+/w8bs4JhFM=',\n",
      "                                      'x-amz-request-id': 'FKPBPH35512WKM49',\n",
      "                                      'date': 'Mon, 02 Jun 2025 17:19:50 GMT',\n",
      "                                      'last-modified': 'Fri, 05 Jan 2024 '\n",
      "                                                       '14:20:14 GMT',\n",
      "                                      'etag': '\"5a7cd113db9ff909f1c90b85b5c23d27\"',\n",
      "                                      'x-amz-server-side-encryption': 'AES256',\n",
      "                                      'x-amz-version-id': 'i3lx0I0fZ7BPd7Gprv94vOsL.MQlt1us',\n",
      "                                      'accept-ranges': 'bytes',\n",
      "                                      'content-type': 'binary/octet-stream',\n",
      "                                      'content-length': '869',\n",
      "                                      'server': 'AmazonS3'},\n",
      "                      'RetryAttempts': 0},\n",
      " 'AcceptRanges': 'bytes',\n",
      " 'LastModified': datetime.datetime(2024, 1, 5, 14, 20, 14, tzinfo=tzutc()),\n",
      " 'ContentLength': 869,\n",
      " 'ETag': '\"5a7cd113db9ff909f1c90b85b5c23d27\"',\n",
      " 'VersionId': 'i3lx0I0fZ7BPd7Gprv94vOsL.MQlt1us',\n",
      " 'ContentType': 'binary/octet-stream',\n",
      " 'ServerSideEncryption': 'AES256',\n",
      " 'Metadata': {},\n",
      " 'Body': <botocore.response.StreamingBody object at 0x1129412d0>}\n"
     ]
    }
   ],
   "source": [
    "# Read the data from the object\n",
    "s3_object = s3_client.get_object(\n",
    "    Bucket = bucket_name,\n",
    "    Key = 'data-eng-resources/Data250/fish'\n",
    ")\n",
    "\n",
    "pp.pp(s3_object)"
   ]
  },
  {
   "cell_type": "code",
   "execution_count": 149,
   "id": "fad4f4ab",
   "metadata": {},
   "outputs": [
    {
     "name": "stdout",
     "output_type": "stream",
     "text": [
      "     Species      Weight    Length1    Length2    Length3     Height     Width\n",
      "0      Bream  621.034259  33.306240  36.638641  41.387836  18.699552  6.175620\n",
      "1     Parkki  157.127433  22.067386  24.161097  25.846385  12.465449  3.736230\n",
      "2      Perch  385.464303  29.162474  31.024313  32.855416  10.897862  5.481619\n",
      "3       Pike  721.859936  46.044273  48.242703  52.279477  11.566545  5.719653\n",
      "4      Roach  155.495394  23.992542  25.703156  28.126810  10.112788  4.338152\n",
      "5      Smelt   14.434189  14.423119  15.041544  15.985054   6.029688  1.940348\n",
      "6  Whitefish  534.355346  32.793050  34.970353  36.995182  13.099232  6.195300\n"
     ]
    },
    {
     "data": {
      "text/html": [
       "<div>\n",
       "<style scoped>\n",
       "    .dataframe tbody tr th:only-of-type {\n",
       "        vertical-align: middle;\n",
       "    }\n",
       "\n",
       "    .dataframe tbody tr th {\n",
       "        vertical-align: top;\n",
       "    }\n",
       "\n",
       "    .dataframe thead th {\n",
       "        text-align: right;\n",
       "    }\n",
       "</style>\n",
       "<table border=\"1\" class=\"dataframe\">\n",
       "  <thead>\n",
       "    <tr style=\"text-align: right;\">\n",
       "      <th></th>\n",
       "      <th>Species</th>\n",
       "      <th>Weight</th>\n",
       "      <th>Length1</th>\n",
       "      <th>Length2</th>\n",
       "      <th>Length3</th>\n",
       "      <th>Height</th>\n",
       "      <th>Width</th>\n",
       "      <th>AverageLength</th>\n",
       "    </tr>\n",
       "  </thead>\n",
       "  <tbody>\n",
       "    <tr>\n",
       "      <th>0</th>\n",
       "      <td>Bream</td>\n",
       "      <td>621.034259</td>\n",
       "      <td>33.306240</td>\n",
       "      <td>36.638641</td>\n",
       "      <td>41.387836</td>\n",
       "      <td>18.699552</td>\n",
       "      <td>6.175620</td>\n",
       "      <td>37.110906</td>\n",
       "    </tr>\n",
       "    <tr>\n",
       "      <th>1</th>\n",
       "      <td>Parkki</td>\n",
       "      <td>157.127433</td>\n",
       "      <td>22.067386</td>\n",
       "      <td>24.161097</td>\n",
       "      <td>25.846385</td>\n",
       "      <td>12.465449</td>\n",
       "      <td>3.736230</td>\n",
       "      <td>24.024956</td>\n",
       "    </tr>\n",
       "    <tr>\n",
       "      <th>2</th>\n",
       "      <td>Perch</td>\n",
       "      <td>385.464303</td>\n",
       "      <td>29.162474</td>\n",
       "      <td>31.024313</td>\n",
       "      <td>32.855416</td>\n",
       "      <td>10.897862</td>\n",
       "      <td>5.481619</td>\n",
       "      <td>31.014068</td>\n",
       "    </tr>\n",
       "    <tr>\n",
       "      <th>3</th>\n",
       "      <td>Pike</td>\n",
       "      <td>721.859936</td>\n",
       "      <td>46.044273</td>\n",
       "      <td>48.242703</td>\n",
       "      <td>52.279477</td>\n",
       "      <td>11.566545</td>\n",
       "      <td>5.719653</td>\n",
       "      <td>48.855484</td>\n",
       "    </tr>\n",
       "    <tr>\n",
       "      <th>4</th>\n",
       "      <td>Roach</td>\n",
       "      <td>155.495394</td>\n",
       "      <td>23.992542</td>\n",
       "      <td>25.703156</td>\n",
       "      <td>28.126810</td>\n",
       "      <td>10.112788</td>\n",
       "      <td>4.338152</td>\n",
       "      <td>25.940836</td>\n",
       "    </tr>\n",
       "    <tr>\n",
       "      <th>5</th>\n",
       "      <td>Smelt</td>\n",
       "      <td>14.434189</td>\n",
       "      <td>14.423119</td>\n",
       "      <td>15.041544</td>\n",
       "      <td>15.985054</td>\n",
       "      <td>6.029688</td>\n",
       "      <td>1.940348</td>\n",
       "      <td>15.149906</td>\n",
       "    </tr>\n",
       "    <tr>\n",
       "      <th>6</th>\n",
       "      <td>Whitefish</td>\n",
       "      <td>534.355346</td>\n",
       "      <td>32.793050</td>\n",
       "      <td>34.970353</td>\n",
       "      <td>36.995182</td>\n",
       "      <td>13.099232</td>\n",
       "      <td>6.195300</td>\n",
       "      <td>34.919528</td>\n",
       "    </tr>\n",
       "  </tbody>\n",
       "</table>\n",
       "</div>"
      ],
      "text/plain": [
       "     Species      Weight    Length1    Length2    Length3     Height  \\\n",
       "0      Bream  621.034259  33.306240  36.638641  41.387836  18.699552   \n",
       "1     Parkki  157.127433  22.067386  24.161097  25.846385  12.465449   \n",
       "2      Perch  385.464303  29.162474  31.024313  32.855416  10.897862   \n",
       "3       Pike  721.859936  46.044273  48.242703  52.279477  11.566545   \n",
       "4      Roach  155.495394  23.992542  25.703156  28.126810  10.112788   \n",
       "5      Smelt   14.434189  14.423119  15.041544  15.985054   6.029688   \n",
       "6  Whitefish  534.355346  32.793050  34.970353  36.995182  13.099232   \n",
       "\n",
       "      Width  AverageLength  \n",
       "0  6.175620      37.110906  \n",
       "1  3.736230      24.024956  \n",
       "2  5.481619      31.014068  \n",
       "3  5.719653      48.855484  \n",
       "4  4.338152      25.940836  \n",
       "5  1.940348      15.149906  \n",
       "6  6.195300      34.919528  "
      ]
     },
     "execution_count": 149,
     "metadata": {},
     "output_type": "execute_result"
    }
   ],
   "source": [
    "# Get the body data\n",
    "str_body = s3_object['Body'].read().decode('utf-8')\n",
    "# print(str_body)\n",
    "\n",
    "fish_data = io.StringIO(str_body)      # str_buffer to convert it to csv\n",
    "df = pd.read_csv(fish_data)\n",
    "print(df)\n",
    "\n",
    "df['AverageLength'] = df[['Length1','Length2','Length3']].mean(axis=1)\n",
    "df\n"
   ]
  },
  {
   "cell_type": "code",
   "execution_count": 150,
   "id": "b7acb2d6",
   "metadata": {},
   "outputs": [
    {
     "data": {
      "text/plain": [
       "{'ResponseMetadata': {'RequestId': 'FKPF7284DZP7B3JS',\n",
       "  'HostId': '9QQ73S8zEFMauOb7UXak8A7mkWfC+1/M1DOWGlL6yoeNFqtzojnhWIco7fT31ZMJ5muta83mzcA=',\n",
       "  'HTTPStatusCode': 200,\n",
       "  'HTTPHeaders': {'x-amz-id-2': '9QQ73S8zEFMauOb7UXak8A7mkWfC+1/M1DOWGlL6yoeNFqtzojnhWIco7fT31ZMJ5muta83mzcA=',\n",
       "   'x-amz-request-id': 'FKPF7284DZP7B3JS',\n",
       "   'date': 'Mon, 02 Jun 2025 17:19:50 GMT',\n",
       "   'x-amz-version-id': 'qgQGyNvqXaiRmdE6YAgaacfs8xXHAQnS',\n",
       "   'x-amz-server-side-encryption': 'AES256',\n",
       "   'etag': '\"b96ab8b8ca1ceb3c3d28711c54c479d2\"',\n",
       "   'x-amz-checksum-crc32': 't+XGZA==',\n",
       "   'x-amz-checksum-type': 'FULL_OBJECT',\n",
       "   'content-length': '0',\n",
       "   'server': 'AmazonS3'},\n",
       "  'RetryAttempts': 0},\n",
       " 'ETag': '\"b96ab8b8ca1ceb3c3d28711c54c479d2\"',\n",
       " 'ChecksumCRC32': 't+XGZA==',\n",
       " 'ChecksumType': 'FULL_OBJECT',\n",
       " 'ServerSideEncryption': 'AES256',\n",
       " 'VersionId': 'qgQGyNvqXaiRmdE6YAgaacfs8xXHAQnS'}"
      ]
     },
     "execution_count": 150,
     "metadata": {},
     "output_type": "execute_result"
    }
   ],
   "source": [
    "str_buffer = io.StringIO()  \n",
    "df.to_csv(str_buffer)\n",
    "s3_resource.Object(           # put to import it to S3 directly\n",
    "    bucket_name = bucket_name,\n",
    "    key = 'data-eng-resources/Data502/fish/madalina_fish_df_data.csv'\n",
    ").put(Body=str_buffer.getvalue())"
   ]
  },
  {
   "cell_type": "code",
   "execution_count": 151,
   "id": "483a131c",
   "metadata": {},
   "outputs": [
    {
     "data": {
      "text/plain": [
       "Species           object\n",
       "Weight           float64\n",
       "Length1          float64\n",
       "Length2          float64\n",
       "Length3          float64\n",
       "Height           float64\n",
       "Width            float64\n",
       "AverageLength    float64\n",
       "dtype: object"
      ]
     },
     "execution_count": 151,
     "metadata": {},
     "output_type": "execute_result"
    }
   ],
   "source": [
    "df.dtypes"
   ]
  },
  {
   "cell_type": "code",
   "execution_count": 152,
   "id": "32cd9170",
   "metadata": {},
   "outputs": [],
   "source": [
    "# Delete file"
   ]
  },
  {
   "cell_type": "code",
   "execution_count": 153,
   "id": "ddc1fa4d",
   "metadata": {},
   "outputs": [],
   "source": [
    "# import boto3\n",
    "\n",
    "# # Initialize the S3 client\n",
    "# s3_client = boto3.client('s3')\n",
    "\n",
    "# # Define the bucket and key (file path in S3)\n",
    "# bucket_name = bucket_name\n",
    "# key = 'Data502/madalina_fish_df_data.csv'  # full key of the file\n",
    "\n",
    "# # Delete the object\n",
    "# response = s3_client.delete_object(Bucket=bucket_name, Key=key)\n",
    "\n",
    "# # Optional: confirm the deletion\n",
    "# print(\"File deleted:\", key)"
   ]
  }
 ],
 "metadata": {
  "kernelspec": {
   "display_name": "Python 3",
   "language": "python",
   "name": "python3"
  },
  "language_info": {
   "codemirror_mode": {
    "name": "ipython",
    "version": 3
   },
   "file_extension": ".py",
   "mimetype": "text/x-python",
   "name": "python",
   "nbconvert_exporter": "python",
   "pygments_lexer": "ipython3",
   "version": "3.12.4"
  }
 },
 "nbformat": 4,
 "nbformat_minor": 5
}
