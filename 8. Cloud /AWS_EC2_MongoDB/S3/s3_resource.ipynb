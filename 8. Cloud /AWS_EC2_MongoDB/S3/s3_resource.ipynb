{
 "cells": [
  {
   "cell_type": "code",
   "execution_count": 287,
   "id": "6bdc09d8",
   "metadata": {},
   "outputs": [],
   "source": [
    "import boto3\n",
    "import pprint as pp\n",
    "\n",
    "s3_resource = boto3.resource('s3')\n",
    "bucket_name = 'data-eng-resources'"
   ]
  },
  {
   "cell_type": "code",
   "execution_count": 288,
   "id": "52294af2",
   "metadata": {},
   "outputs": [
    {
     "name": "stdout",
     "output_type": "stream",
     "text": [
      "s3.Bucket(name='data-eng-resources')\n"
     ]
    }
   ],
   "source": [
    "# Check it returns the correct bucket object\n",
    "bucket = s3_resource.Bucket(bucket_name)\n",
    "print(bucket)"
   ]
  },
  {
   "cell_type": "markdown",
   "id": "f7365e1e",
   "metadata": {},
   "source": [
    "###  Create a Bucket Object using RESOURCE interface that has a method used to return its contents."
   ]
  },
  {
   "cell_type": "code",
   "execution_count": 289,
   "id": "84f5ebad",
   "metadata": {},
   "outputs": [
    {
     "name": "stdout",
     "output_type": "stream",
     "text": [
      "Data401/Brian_Luna.csv\n",
      "Data401/Rahul.csv\n",
      "Data401/jack.csv\n",
      "Data401/lihong.csv\n",
      "Data401/muhammad.csv\n",
      "Data401/rahul_csv.csv\n",
      "Data401/robert.csv\n",
      "Data401/shivani.csv\n",
      "Data401/shreya_jain.csv\n",
      "Data401/usama.csv\n",
      "Data402/\n",
      "Data402/dataframes/\n",
      "Data402/dataframes/KR-details.csv\n",
      "Data402/dataframes/dafydd_dataframe.csv\n",
      "Data402/dataframes/dataframe_yoonhee.csv\n",
      "Data402/dataframes/happiness_yoonhee.csv\n",
      "Data402/dataframes/jamesob-dataframe-upload.csv\n",
      "Data402/dataframes/kyrun_dataframe.csv\n",
      "Data402/dataframes/luis_dataframe.csv\n",
      "Data402/dataframes/raj_dataframe.csv\n",
      "Data402/dataframes/sabrina_dataframe.csv\n",
      "Data402/dataframes/sams_test_csvfile\n",
      "Data402/fish-market-dafydd.csv\n",
      "Data402/fish-market-raj.csv\n",
      "Data402/fish-market-sabrina.csv\n",
      "Data402/fish_market_luis.csv\n",
      "Data402/fish_market_yoonhee.csv\n",
      "Data402/test/\n",
      "Data402/test/KR-details-dict.json\n",
      "Data402/test/KR-details.json\n",
      "Data402/test/dafyddl-details-dict.json\n",
      "Data402/test/dafyddl-details.json\n",
      "Data402/test/jacqueline-details-dict.json\n",
      "Data402/test/jacqueline-details.json\n",
      "Data402/test/jameso-details-age.json\n",
      "Data402/test/jamesob-details.json\n",
      "Data402/test/kehinde-details.json\n",
      "Data402/test/kehinde-dict.json\n",
      "Data402/test/kyrunpl-details-dict.json\n",
      "Data402/test/kyrunpl-details.json\n",
      "Data402/test/luis-details-dict.json\n",
      "Data402/test/luis-details.json\n",
      "Data402/test/luis-trial\n",
      "Data402/test/lukef-details-dict.json\n",
      "Data402/test/lukef-details.json\n",
      "Data402/test/raja-details-dict.json\n",
      "Data402/test/raja-details.json\n",
      "Data402/test/sabrinak-details-dict.json\n",
      "Data402/test/sabrinak-details.json\n",
      "Data402/test/sam_details_for_write\n",
      "Data402/test/sams-details-dict\n",
      "Data402/test/yoonhee-details-dict.json\n",
      "Data402/test/yoonhee_details.json\n",
      "Data502/fish/ahmed.csv\n",
      "Data502/fish/ahmed_fish_species_avg.csv\n",
      "Data502/fish/rebecca\n",
      "Data502/fish/rebecca.csv\n",
      "big-data-backup-do-not-use/\n",
      "big-data-backup-do-not-use/Adventure Works/\n",
      "big-data-backup-do-not-use/Adventure Works/employees.csv\n",
      "big-data-backup-do-not-use/Adventure Works/people.csv\n",
      "big-data-backup-do-not-use/Adventure Works/salespeople.csv\n",
      "big-data-backup-do-not-use/Adventure Works/territories.csv\n",
      "big-data-backup-do-not-use/CAT.csv\n",
      "big-data-backup-do-not-use/TSLA.csv\n",
      "big-data-backup-do-not-use/vgsales.csv\n",
      "big-data/\n",
      "big-data/Adventure Works/\n",
      "big-data/Adventure Works/employees.csv\n",
      "big-data/Adventure Works/people.csv\n",
      "big-data/Adventure Works/salespeople.csv\n",
      "big-data/Adventure Works/territories.csv\n",
      "big-data/CAT.csv\n",
      "big-data/TSLA.csv\n",
      "data-eng-resources/Data250/fish\n",
      "data-eng-resources/Data502/fish\n",
      "data-eng-resources/Data502/fish/Shruthi.csv\n",
      "data-eng-resources/Data502/fish/arabella.csv\n",
      "data-eng-resources/Data502/fish/daniel-solomon.csv\n",
      "data-eng-resources/Data502/fish/daniel_c_fish.csv\n",
      "data-eng-resources/Data502/fish/guilherme_fish.csv\n",
      "data-eng-resources/Data502/fish/guney.csv\n",
      "data-eng-resources/Data502/fish/hannah_df_fish.csv\n",
      "data-eng-resources/Data502/fish/hannah_fish.csv\n",
      "data-eng-resources/Data502/fish/madalina_fish_df_data.csv\n",
      "data-eng-resources/Data502/fish/mahlet.csv\n",
      "data-eng-resources/Data502/fish/saagar_fish.csv\n",
      "data-eng-resources/Data502/fish/samatar.csv\n",
      "data-eng-resources/Data502/hannah_fish.csv\n",
      "data-eng-resources/Data502/saagar_fish.csv\n",
      "fish/Data502/rebecca\n",
      "python/\n",
      "python/chatbot-intent.json\n",
      "python/fish-market-mon.csv\n",
      "python/fish-market-tues.csv\n",
      "python/fish-market.csv\n",
      "python/happiness-2019-copy.csv\n",
      "python/happiness-2019.csv\n",
      "vgsales/\n",
      "vgsales/vgsales.csv\n"
     ]
    }
   ],
   "source": [
    "# Create a Bucket Object that has a method used to return its contents.\n",
    "s3_resource = boto3.resource('s3')\n",
    "bucket_name = 'data-eng-resources'\n",
    "\n",
    "bucket = s3_resource.Bucket(bucket_name)\n",
    "# print(bucket)\n",
    "\n",
    "objects = bucket.objects\n",
    "# print(objects)\n",
    "\n",
    "contents = objects.all()\n",
    "# print(contents)\n",
    "\n",
    "for object in contents:\n",
    "    print(object.key)"
   ]
  },
  {
   "cell_type": "markdown",
   "id": "b04518a5",
   "metadata": {},
   "source": [
    "### OR PRINT OUT as a LIST"
   ]
  },
  {
   "cell_type": "code",
   "execution_count": 292,
   "id": "69515d9e",
   "metadata": {},
   "outputs": [
    {
     "name": "stdout",
     "output_type": "stream",
     "text": [
      "['Data401/Brian_Luna.csv', 'Data401/Rahul.csv', 'Data401/jack.csv', 'Data401/lihong.csv', 'Data401/muhammad.csv', 'Data401/rahul_csv.csv', 'Data401/robert.csv', 'Data401/shivani.csv', 'Data401/shreya_jain.csv', 'Data401/usama.csv', 'Data402/', 'Data402/dataframes/', 'Data402/dataframes/KR-details.csv', 'Data402/dataframes/dafydd_dataframe.csv', 'Data402/dataframes/dataframe_yoonhee.csv', 'Data402/dataframes/happiness_yoonhee.csv', 'Data402/dataframes/jamesob-dataframe-upload.csv', 'Data402/dataframes/kyrun_dataframe.csv', 'Data402/dataframes/luis_dataframe.csv', 'Data402/dataframes/raj_dataframe.csv', 'Data402/dataframes/sabrina_dataframe.csv', 'Data402/dataframes/sams_test_csvfile', 'Data402/fish-market-dafydd.csv', 'Data402/fish-market-raj.csv', 'Data402/fish-market-sabrina.csv', 'Data402/fish_market_luis.csv', 'Data402/fish_market_yoonhee.csv', 'Data402/test/', 'Data402/test/KR-details-dict.json', 'Data402/test/KR-details.json', 'Data402/test/dafyddl-details-dict.json', 'Data402/test/dafyddl-details.json', 'Data402/test/jacqueline-details-dict.json', 'Data402/test/jacqueline-details.json', 'Data402/test/jameso-details-age.json', 'Data402/test/jamesob-details.json', 'Data402/test/kehinde-details.json', 'Data402/test/kehinde-dict.json', 'Data402/test/kyrunpl-details-dict.json', 'Data402/test/kyrunpl-details.json', 'Data402/test/luis-details-dict.json', 'Data402/test/luis-details.json', 'Data402/test/luis-trial', 'Data402/test/lukef-details-dict.json', 'Data402/test/lukef-details.json', 'Data402/test/raja-details-dict.json', 'Data402/test/raja-details.json', 'Data402/test/sabrinak-details-dict.json', 'Data402/test/sabrinak-details.json', 'Data402/test/sam_details_for_write', 'Data402/test/sams-details-dict', 'Data402/test/yoonhee-details-dict.json', 'Data402/test/yoonhee_details.json', 'Data502/fish/ahmed.csv', 'Data502/fish/ahmed_fish_species_avg.csv', 'Data502/fish/rebecca', 'Data502/fish/rebecca.csv', 'big-data-backup-do-not-use/', 'big-data-backup-do-not-use/Adventure Works/', 'big-data-backup-do-not-use/Adventure Works/employees.csv', 'big-data-backup-do-not-use/Adventure Works/people.csv', 'big-data-backup-do-not-use/Adventure Works/salespeople.csv', 'big-data-backup-do-not-use/Adventure Works/territories.csv', 'big-data-backup-do-not-use/CAT.csv', 'big-data-backup-do-not-use/TSLA.csv', 'big-data-backup-do-not-use/vgsales.csv', 'big-data/', 'big-data/Adventure Works/', 'big-data/Adventure Works/employees.csv', 'big-data/Adventure Works/people.csv', 'big-data/Adventure Works/salespeople.csv', 'big-data/Adventure Works/territories.csv', 'big-data/CAT.csv', 'big-data/TSLA.csv', 'data-eng-resources/Data250/fish', 'data-eng-resources/Data502/fish', 'data-eng-resources/Data502/fish/Shruthi.csv', 'data-eng-resources/Data502/fish/arabella.csv', 'data-eng-resources/Data502/fish/daniel-solomon.csv', 'data-eng-resources/Data502/fish/daniel_c_fish.csv', 'data-eng-resources/Data502/fish/guilherme_fish.csv', 'data-eng-resources/Data502/fish/guney.csv', 'data-eng-resources/Data502/fish/hannah_df_fish.csv', 'data-eng-resources/Data502/fish/hannah_fish.csv', 'data-eng-resources/Data502/fish/madalina_fish_df_data.csv', 'data-eng-resources/Data502/fish/mahlet.csv', 'data-eng-resources/Data502/fish/saagar_fish.csv', 'data-eng-resources/Data502/fish/samatar.csv', 'data-eng-resources/Data502/hannah_fish.csv', 'data-eng-resources/Data502/saagar_fish.csv', 'fish/Data502/rebecca', 'python/', 'python/chatbot-intent.json', 'python/fish-market-mon.csv', 'python/fish-market-tues.csv', 'python/fish-market.csv', 'python/happiness-2019-copy.csv', 'python/happiness-2019.csv', 'vgsales/', 'vgsales/vgsales.csv']\n"
     ]
    }
   ],
   "source": [
    "# or print out as a list\n",
    "keys = [o.key for o in s3_resource.Bucket(bucket_name).objects.all()]\n",
    "print(keys)\n"
   ]
  }
 ],
 "metadata": {
  "kernelspec": {
   "display_name": "Python 3",
   "language": "python",
   "name": "python3"
  },
  "language_info": {
   "codemirror_mode": {
    "name": "ipython",
    "version": 3
   },
   "file_extension": ".py",
   "mimetype": "text/x-python",
   "name": "python",
   "nbconvert_exporter": "python",
   "pygments_lexer": "ipython3",
   "version": "3.12.4"
  }
 },
 "nbformat": 4,
 "nbformat_minor": 5
}
