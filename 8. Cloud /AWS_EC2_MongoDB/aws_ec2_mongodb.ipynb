{
 "cells": [
  {
   "cell_type": "code",
   "execution_count": 3,
   "id": "941779b8",
   "metadata": {},
   "outputs": [
    {
     "name": "stdout",
     "output_type": "stream",
     "text": [
      "Could not connect to MongoDB: No servers found yet, Timeout: 5.0s, Topology Description: <TopologyDescription id: 6838887176bfae567e7794bd, topology_type: Unknown, servers: [<ServerDescription ('35.157.101.65', 27017) server_type: Unknown, rtt: None>]>\n"
     ]
    }
   ],
   "source": [
    "import pymongo\n",
    "\n",
    "try:\n",
    "    client = pymongo.MongoClient(\"mongodb://35.157.101.65:27017\", serverSelectionTimeoutMS=5000)\n",
    "    db = client['demo']\n",
    "    col = db['test-collection']\n",
    "\n",
    "    col.insert_one({\"success\": True})\n",
    "\n",
    "    for doc in col.find():\n",
    "        print(doc)\n",
    "except pymongo.errors.ServerSelectionTimeoutError as err:\n",
    "    print(\"Could not connect to MongoDB:\", err)\n",
    "except Exception as e:\n",
    "    print(\"Error:\", e)\n"
   ]
  }
 ],
 "metadata": {
  "kernelspec": {
   "display_name": "Python 3",
   "language": "python",
   "name": "python3"
  },
  "language_info": {
   "codemirror_mode": {
    "name": "ipython",
    "version": 3
   },
   "file_extension": ".py",
   "mimetype": "text/x-python",
   "name": "python",
   "nbconvert_exporter": "python",
   "pygments_lexer": "ipython3",
   "version": "3.12.4"
  }
 },
 "nbformat": 4,
 "nbformat_minor": 5
}
